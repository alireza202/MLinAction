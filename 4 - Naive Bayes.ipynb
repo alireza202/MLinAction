{
 "metadata": {
  "name": "",
  "signature": "sha256:27a80ab6f6b380fc94efb4df6779490ef9777d3cf6085486f8b651e415848f8e"
 },
 "nbformat": 3,
 "nbformat_minor": 0,
 "worksheets": [
  {
   "cells": [
    {
     "cell_type": "heading",
     "level": 1,
     "metadata": {},
     "source": [
      "Naive Bayes"
     ]
    },
    {
     "cell_type": "markdown",
     "metadata": {},
     "source": [
      "Pros: \n",
      "* Works with a small amount of data\n",
      "* Handles multiple classes \n",
      "\n",
      "Cons: \n",
      "* Sensitive to how the input data is prepared\n",
      "\n",
      "Works with: \n",
      "* Nominal values"
     ]
    },
    {
     "cell_type": "code",
     "collapsed": false,
     "input": [
      "import numpy as np"
     ],
     "language": "python",
     "metadata": {},
     "outputs": [],
     "prompt_number": 7
    },
    {
     "cell_type": "code",
     "collapsed": false,
     "input": [
      "def loadDataSet():\n",
      "    postingList=[['my', 'dog', 'has', 'flea', 'problems', 'help', 'please'],\n",
      "                 ['maybe', 'not', 'take', 'him', 'to', 'dog', 'park', 'stupid'],\n",
      "                 ['my', 'dalmation', 'is', 'so', 'cute', 'I', 'love', 'him'],\n",
      "                 ['stop', 'posting', 'stupid', 'worthless', 'garbage'],\n",
      "                 ['mr', 'licks', 'ate', 'my', 'steak', 'how', 'to', 'stop', 'him'],\n",
      "                 ['quit', 'buying', 'worthless', 'dog', 'food', 'stupid']]\n",
      "    classVec = [0,1,0,1,0,1]\n",
      "    return postingList,classVec"
     ],
     "language": "python",
     "metadata": {},
     "outputs": [],
     "prompt_number": 1
    },
    {
     "cell_type": "code",
     "collapsed": false,
     "input": [
      "def createVocabList(dataSet):\n",
      "    \"\"\"\n",
      "    Create a list of all the unique words in all of our documents\n",
      "    \"\"\"\n",
      "    vocabSet = set([])\n",
      "    for document in dataSet:\n",
      "        vocabSet = vocabSet | set(document)\n",
      "    return list(vocabSet)"
     ],
     "language": "python",
     "metadata": {},
     "outputs": [],
     "prompt_number": 2
    },
    {
     "cell_type": "code",
     "collapsed": false,
     "input": [
      "def setOfWords2Vec(vocabList, inputSet):\n",
      "    \"\"\"\n",
      "    Takes the vocabulary list and a document and outputs a vector of \n",
      "    1s and 0s to represent whether a word from our vocabulary is present \n",
      "    or not in the given document.\n",
      "    \"\"\"\n",
      "    \n",
      "    returnVec = [0]*len(vocabList)\n",
      "    for word in inputSet:\n",
      "        if word in vocabList:\n",
      "            returnVec[vocabList.index(word)] = 1\n",
      "        else: \n",
      "            print \"the word: %s is not in my Vocabulary!\" % word\n",
      "    return returnVec"
     ],
     "language": "python",
     "metadata": {},
     "outputs": [],
     "prompt_number": 3
    },
    {
     "cell_type": "code",
     "collapsed": false,
     "input": [
      "listOPosts,listClasses = loadDataSet()\n",
      "myVocabList = createVocabList(listOPosts)\n",
      "myVocabList"
     ],
     "language": "python",
     "metadata": {},
     "outputs": [
      {
       "metadata": {},
       "output_type": "pyout",
       "prompt_number": 5,
       "text": [
        "['cute',\n",
        " 'love',\n",
        " 'help',\n",
        " 'garbage',\n",
        " 'quit',\n",
        " 'I',\n",
        " 'problems',\n",
        " 'is',\n",
        " 'park',\n",
        " 'stop',\n",
        " 'flea',\n",
        " 'dalmation',\n",
        " 'licks',\n",
        " 'food',\n",
        " 'not',\n",
        " 'him',\n",
        " 'buying',\n",
        " 'posting',\n",
        " 'has',\n",
        " 'worthless',\n",
        " 'ate',\n",
        " 'to',\n",
        " 'maybe',\n",
        " 'please',\n",
        " 'dog',\n",
        " 'how',\n",
        " 'stupid',\n",
        " 'so',\n",
        " 'take',\n",
        " 'mr',\n",
        " 'steak',\n",
        " 'my']"
       ]
      }
     ],
     "prompt_number": 5
    },
    {
     "cell_type": "code",
     "collapsed": false,
     "input": [
      "setOfWords2Vec(myVocabList, listOPosts[0])"
     ],
     "language": "python",
     "metadata": {},
     "outputs": [
      {
       "metadata": {},
       "output_type": "pyout",
       "prompt_number": 6,
       "text": [
        "[0,\n",
        " 0,\n",
        " 1,\n",
        " 0,\n",
        " 0,\n",
        " 0,\n",
        " 1,\n",
        " 0,\n",
        " 0,\n",
        " 0,\n",
        " 1,\n",
        " 0,\n",
        " 0,\n",
        " 0,\n",
        " 0,\n",
        " 0,\n",
        " 0,\n",
        " 0,\n",
        " 1,\n",
        " 0,\n",
        " 0,\n",
        " 0,\n",
        " 0,\n",
        " 1,\n",
        " 1,\n",
        " 0,\n",
        " 0,\n",
        " 0,\n",
        " 0,\n",
        " 0,\n",
        " 0,\n",
        " 1]"
       ]
      }
     ],
     "prompt_number": 6
    },
    {
     "cell_type": "code",
     "collapsed": false,
     "input": [
      "def trainNB0(trainMatrix,trainCategory):\n",
      "    \"\"\"\n",
      "    Takes a matrix of documents, 'trainMatrix', and a vector with \n",
      "    the class labels for each of the documents, 'trainCategory'.\n",
      "    Abusive is 1, normal is 0.\n",
      "    \n",
      "    p0Vect is the log of [p(x1|c=0), p(x2|c=0), p(x3|c=0), ..., p(xn|c=0)]\n",
      "    p1Vect is same as above for c=1\n",
      "    pAbusive is p(c=1)\n",
      "    \"\"\"\n",
      "    \n",
      "    numTrainDocs = len(trainMatrix)\n",
      "    numWords = len(trainMatrix[0])\n",
      "    pAbusive = sum(trainCategory) / float(numTrainDocs)\n",
      "    \n",
      "    # initialize probabilities\n",
      "    p0Num = np.ones(numWords); p1Num = np.ones(numWords)\n",
      "    p0Denom = 2.0; p1Denom = 2.0\n",
      "    \n",
      "    for i in range(numTrainDocs):\n",
      "        if trainCategory[i] == 1:\n",
      "            p1Num += trainMatrix[i]\n",
      "            p1Denom += sum(trainMatrix[i])\n",
      "        else:\n",
      "            p0Num += trainMatrix[i]\n",
      "            p0Denom += sum(trainMatrix[i])\n",
      "    p1Vect = log(p1Num / p1Denom)\n",
      "    p0Vect = log(p0Num / p0Denom)\n",
      "    \n",
      "    return p0Vect, p1Vect, pAbusive"
     ],
     "language": "python",
     "metadata": {},
     "outputs": [],
     "prompt_number": 22
    },
    {
     "cell_type": "code",
     "collapsed": false,
     "input": [
      "listOPosts, listClasses = loadDataSet()\n",
      "myVocabList = createVocabList(listOPosts)\n",
      "trainMat=[]\n",
      "for postinDoc in listOPosts:\n",
      "    trainMat.append(setOfWords2Vec(myVocabList, postinDoc))"
     ],
     "language": "python",
     "metadata": {},
     "outputs": [],
     "prompt_number": 23
    },
    {
     "cell_type": "code",
     "collapsed": false,
     "input": [
      "p0V, p1V, pAb = trainNB0(trainMat,listClasses)\n",
      "print p0V"
     ],
     "language": "python",
     "metadata": {},
     "outputs": [
      {
       "output_type": "stream",
       "stream": "stdout",
       "text": [
        "[-2.56494936 -2.56494936 -2.56494936 -3.25809654 -3.25809654 -2.56494936\n",
        " -2.56494936 -2.56494936 -3.25809654 -2.56494936 -2.56494936 -2.56494936\n",
        " -2.56494936 -3.25809654 -3.25809654 -2.15948425 -3.25809654 -3.25809654\n",
        " -2.56494936 -3.25809654 -2.56494936 -2.56494936 -3.25809654 -2.56494936\n",
        " -2.56494936 -2.56494936 -3.25809654 -2.56494936 -3.25809654 -2.56494936\n",
        " -2.56494936 -1.87180218]\n"
       ]
      }
     ],
     "prompt_number": 24
    },
    {
     "cell_type": "code",
     "collapsed": false,
     "input": [
      "print p1V"
     ],
     "language": "python",
     "metadata": {},
     "outputs": [
      {
       "output_type": "stream",
       "stream": "stdout",
       "text": [
        "[-3.04452244 -3.04452244 -3.04452244 -2.35137526 -2.35137526 -3.04452244\n",
        " -3.04452244 -3.04452244 -2.35137526 -2.35137526 -3.04452244 -3.04452244\n",
        " -3.04452244 -2.35137526 -2.35137526 -2.35137526 -2.35137526 -2.35137526\n",
        " -3.04452244 -1.94591015 -3.04452244 -2.35137526 -2.35137526 -3.04452244\n",
        " -1.94591015 -3.04452244 -1.65822808 -3.04452244 -2.35137526 -3.04452244\n",
        " -3.04452244 -3.04452244]\n"
       ]
      }
     ],
     "prompt_number": 25
    },
    {
     "cell_type": "code",
     "collapsed": false,
     "input": [
      "print len(trainMat), len(listClasses)"
     ],
     "language": "python",
     "metadata": {},
     "outputs": [
      {
       "output_type": "stream",
       "stream": "stdout",
       "text": [
        "6 6\n"
       ]
      }
     ],
     "prompt_number": 38
    },
    {
     "cell_type": "code",
     "collapsed": false,
     "input": [
      "def classifyNB(vec2Classify, p0Vec, p1Vec, pClass1):\n",
      "    \"\"\"\n",
      "    Calculates p(X|c=0)*p(c=0) and p(X|c=1)*p(c=1) and returns whichever class \n",
      "    that is larger\n",
      "    \"\"\"\n",
      "    p1 = sum(vec2Classify * p1Vec) + log(pClass1)\n",
      "    p0 = sum(vec2Classify * p0Vec) + log(1.0 - pClass1)\n",
      "    if p1 > p0:\n",
      "        return 1\n",
      "    else:\n",
      "        return 0"
     ],
     "language": "python",
     "metadata": {},
     "outputs": [],
     "prompt_number": 26
    },
    {
     "cell_type": "code",
     "collapsed": false,
     "input": [
      "def testingNB():\n",
      "    listOPosts,listClasses = loadDataSet()\n",
      "    myVocabList = createVocabList(listOPosts)\n",
      "    trainMat=[]\n",
      "    for postinDoc in listOPosts:\n",
      "        trainMat.append(setOfWords2Vec(myVocabList, postinDoc))\n",
      "        \n",
      "    p0V,p1V,pAb = trainNB0(array(trainMat),array(listClasses))\n",
      "    testEntry = ['love', 'my', 'dalmation']\n",
      "    thisDoc = array(setOfWords2Vec(myVocabList, testEntry))\n",
      "    print testEntry,'classified as: ',classifyNB(thisDoc,p0V,p1V,pAb)\n",
      "    \n",
      "    testEntry = ['stupid', 'garbage']\n",
      "    thisDoc = array(setOfWords2Vec(myVocabList, testEntry))\n",
      "    print testEntry,'classified as: ',classifyNB(thisDoc,p0V,p1V,pAb)"
     ],
     "language": "python",
     "metadata": {},
     "outputs": [],
     "prompt_number": 31
    },
    {
     "cell_type": "code",
     "collapsed": false,
     "input": [
      "testingNB()"
     ],
     "language": "python",
     "metadata": {},
     "outputs": [
      {
       "output_type": "stream",
       "stream": "stdout",
       "text": [
        "['love', 'my', 'dalmation'] classified as:  0\n",
        "['stupid', 'garbage'] classified as:  1\n"
       ]
      }
     ],
     "prompt_number": 32
    },
    {
     "cell_type": "heading",
     "level": 1,
     "metadata": {},
     "source": [
      "Bag-of-words document model"
     ]
    },
    {
     "cell_type": "markdown",
     "metadata": {},
     "source": [
      "A **bag of words** can have multiple occurrences of each word, whereas a **set of words** can have only one occurrence of each word."
     ]
    },
    {
     "cell_type": "code",
     "collapsed": false,
     "input": [
      "def bagOfWords2VecMN(vocabList, inputSet):\n",
      "    returnVec = [0]*len(vocabList)\n",
      "    for word in inputSet:\n",
      "        if word in vocabList:\n",
      "            returnVec[vocabList.index(word)] += 1\n",
      "    return returnVec"
     ],
     "language": "python",
     "metadata": {},
     "outputs": [],
     "prompt_number": 39
    },
    {
     "cell_type": "heading",
     "level": 1,
     "metadata": {},
     "source": [
      "Example: classifying spam email with nai\u0308ve Bayes"
     ]
    },
    {
     "cell_type": "code",
     "collapsed": false,
     "input": [
      "import re"
     ],
     "language": "python",
     "metadata": {},
     "outputs": [],
     "prompt_number": 40
    },
    {
     "cell_type": "code",
     "collapsed": false,
     "input": [
      "mySent = 'This book is the best book on Python or M.L. I have ever laid eyes upon.'\n",
      "regEx = re.compile('\\\\W*')\n",
      "listOfTokens = regEx.split(mySent)"
     ],
     "language": "python",
     "metadata": {},
     "outputs": [],
     "prompt_number": 41
    },
    {
     "cell_type": "code",
     "collapsed": false,
     "input": [
      "[tok.lower() for tok in listOfTokens if len(tok) > 0]"
     ],
     "language": "python",
     "metadata": {},
     "outputs": [
      {
       "metadata": {},
       "output_type": "pyout",
       "prompt_number": 44,
       "text": [
        "['this',\n",
        " 'book',\n",
        " 'is',\n",
        " 'the',\n",
        " 'best',\n",
        " 'book',\n",
        " 'on',\n",
        " 'python',\n",
        " 'or',\n",
        " 'm',\n",
        " 'l',\n",
        " 'i',\n",
        " 'have',\n",
        " 'ever',\n",
        " 'laid',\n",
        " 'eyes',\n",
        " 'upon']"
       ]
      }
     ],
     "prompt_number": 44
    },
    {
     "cell_type": "code",
     "collapsed": false,
     "input": [
      "emailText = open('machinelearninginaction/Ch04/email/ham/6.txt').read()"
     ],
     "language": "python",
     "metadata": {},
     "outputs": [],
     "prompt_number": 45
    },
    {
     "cell_type": "code",
     "collapsed": false,
     "input": [
      "listOfTokens=regEx.split(emailText)\n",
      "print listOfTokens"
     ],
     "language": "python",
     "metadata": {},
     "outputs": [
      {
       "output_type": "stream",
       "stream": "stdout",
       "text": [
        "['Hello', 'Since', 'you', 'are', 'an', 'owner', 'of', 'at', 'least', 'one', 'Google', 'Groups', 'group', 'that', 'uses', 'the', 'customized', 'welcome', 'message', 'pages', 'or', 'files', 'we', 'are', 'writing', 'to', 'inform', 'you', 'that', 'we', 'will', 'no', 'longer', 'be', 'supporting', 'these', 'features', 'starting', 'February', '2011', 'We', 'made', 'this', 'decision', 'so', 'that', 'we', 'can', 'focus', 'on', 'improving', 'the', 'core', 'functionalities', 'of', 'Google', 'Groups', 'mailing', 'lists', 'and', 'forum', 'discussions', 'Instead', 'of', 'these', 'features', 'we', 'encourage', 'you', 'to', 'use', 'products', 'that', 'are', 'designed', 'specifically', 'for', 'file', 'storage', 'and', 'page', 'creation', 'such', 'as', 'Google', 'Docs', 'and', 'Google', 'Sites', 'For', 'example', 'you', 'can', 'easily', 'create', 'your', 'pages', 'on', 'Google', 'Sites', 'and', 'share', 'the', 'site', 'http', 'www', 'google', 'com', 'support', 'sites', 'bin', 'answer', 'py', 'hl', 'en', 'answer', '174623', 'with', 'the', 'members', 'of', 'your', 'group', 'You', 'can', 'also', 'store', 'your', 'files', 'on', 'the', 'site', 'by', 'attaching', 'files', 'to', 'pages', 'http', 'www', 'google', 'com', 'support', 'sites', 'bin', 'answer', 'py', 'hl', 'en', 'answer', '90563', 'on', 'the', 'site', 'If', 'you', 're', 'just', 'looking', 'for', 'a', 'place', 'to', 'upload', 'your', 'files', 'so', 'that', 'your', 'group', 'members', 'can', 'download', 'them', 'we', 'suggest', 'you', 'try', 'Google', 'Docs', 'You', 'can', 'upload', 'files', 'http', 'docs', 'google', 'com', 'support', 'bin', 'answer', 'py', 'hl', 'en', 'answer', '50092', 'and', 'share', 'access', 'with', 'either', 'a', 'group', 'http', 'docs', 'google', 'com', 'support', 'bin', 'answer', 'py', 'hl', 'en', 'answer', '66343', 'or', 'an', 'individual', 'http', 'docs', 'google', 'com', 'support', 'bin', 'answer', 'py', 'hl', 'en', 'answer', '86152', 'assigning', 'either', 'edit', 'or', 'download', 'only', 'access', 'to', 'the', 'files', 'you', 'have', 'received', 'this', 'mandatory', 'email', 'service', 'announcement', 'to', 'update', 'you', 'about', 'important', 'changes', 'to', 'Google', 'Groups', '']\n"
       ]
      }
     ],
     "prompt_number": 46
    },
    {
     "cell_type": "code",
     "collapsed": false,
     "input": [
      "def textParse(bigString):\n",
      "    import re\n",
      "    listOfTokens = re.split(r'\\W*', bigString)\n",
      "    return [tok.lower() for tok in listOfTokens if len(tok) > 2]"
     ],
     "language": "python",
     "metadata": {},
     "outputs": [],
     "prompt_number": 47
    },
    {
     "cell_type": "code",
     "collapsed": false,
     "input": [
      "def spamTest():\n",
      "    import random\n",
      "    docList=[]; classList = []; fullText =[]\n",
      "\n",
      "    # load and parse text files\n",
      "    for i in range(1,26):\n",
      "        wordList = textParse(open('machinelearninginaction/Ch04/email/spam/%d.txt' % i).read())\n",
      "        docList.append(wordList)\n",
      "        fullText.extend(wordList)\n",
      "        classList.append(1)\n",
      "        \n",
      "        wordList = textParse(open('machinelearninginaction/Ch04/email/ham/%d.txt' % i).read())\n",
      "        docList.append(wordList)\n",
      "        fullText.extend(wordList)\n",
      "        classList.append(0)\n",
      "    \n",
      "    # randomly create the training set\n",
      "    vocabList = createVocabList(docList)\n",
      "    trainingSet = range(50); testSet=[]\n",
      "    for i in range(10):\n",
      "        randIndex = int(random.uniform(0,len(trainingSet)))\n",
      "        testSet.append(trainingSet[randIndex])\n",
      "        del(trainingSet[randIndex])\n",
      "        \n",
      "    trainMat=[]; trainClasses = []\n",
      "    for docIndex in trainingSet:\n",
      "        trainMat.append(setOfWords2Vec(vocabList, docList[docIndex]))\n",
      "        trainClasses.append(classList[docIndex])\n",
      "    p0V,p1V,pSpam = trainNB0(array(trainMat),array(trainClasses))\n",
      "    \n",
      "    # classify the text\n",
      "    errorCount = 0\n",
      "    for docIndex in testSet:\n",
      "        wordVector = setOfWords2Vec(vocabList, docList[docIndex])\n",
      "        if classifyNB(array(wordVector),p0V,p1V,pSpam) != classList[docIndex]:\n",
      "            errorCount += 1\n",
      "    print 'the error rate is: ', float(errorCount) / len(testSet)"
     ],
     "language": "python",
     "metadata": {},
     "outputs": [],
     "prompt_number": 49
    },
    {
     "cell_type": "code",
     "collapsed": false,
     "input": [
      "spamTest()"
     ],
     "language": "python",
     "metadata": {},
     "outputs": [
      {
       "output_type": "stream",
       "stream": "stdout",
       "text": [
        "the error rate is:  0.2\n"
       ]
      }
     ],
     "prompt_number": 55
    },
    {
     "cell_type": "code",
     "collapsed": false,
     "input": [],
     "language": "python",
     "metadata": {},
     "outputs": []
    }
   ],
   "metadata": {}
  }
 ]
}