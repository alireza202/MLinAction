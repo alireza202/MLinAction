{
 "metadata": {
  "name": "",
  "signature": "sha256:5ae84f2d64b823ec029024e8dab2bcd3ce39c9217ff02945e180333d36ef3acc"
 },
 "nbformat": 3,
 "nbformat_minor": 0,
 "worksheets": [
  {
   "cells": [
    {
     "cell_type": "heading",
     "level": 1,
     "metadata": {},
     "source": [
      "K-Nearest Neighbors"
     ]
    },
    {
     "cell_type": "markdown",
     "metadata": {},
     "source": [
      "Pros: \n",
      "* High accuracy\n",
      "* Insensitive to outliers\n",
      "* No assumptions about data \n",
      "\n",
      "Cons: \n",
      "* Computationally expensive\n",
      "* Requires a lot of memory\n",
      "\n",
      "Works with: \n",
      "* Numeric values\n",
      "* Nominal values"
     ]
    },
    {
     "cell_type": "heading",
     "level": 1,
     "metadata": {},
     "source": [
      "Classifying with distance measurements"
     ]
    },
    {
     "cell_type": "code",
     "collapsed": false,
     "input": [
      "import numpy as np\n",
      "import operator\n",
      "import os"
     ],
     "language": "python",
     "metadata": {},
     "outputs": [],
     "prompt_number": 65
    },
    {
     "cell_type": "code",
     "collapsed": false,
     "input": [
      "def createDataSet():\n",
      "    group = np.array([[1.0,1.1],[1.0,1.0],[0,0],[0,0.1]])\n",
      "    labels = ['A','A','B','B']\n",
      "    return group, labels"
     ],
     "language": "python",
     "metadata": {},
     "outputs": [],
     "prompt_number": 3
    },
    {
     "cell_type": "code",
     "collapsed": false,
     "input": [
      "def classify0(inX, dataSet, labels, k):\n",
      "    \"\"\"\n",
      "    kNN classification of data 'inX' using 'dataSet' and their 'labels'\n",
      "    using k nearest neighbors\n",
      "    \"\"\"\n",
      "    \n",
      "    # distance calculation\n",
      "    dataSetSize = dataSet.shape[0]\n",
      "    diffMat = np.tile(inX, (dataSetSize, 1)) - dataSet\n",
      "    sqDiffMat = diffMat**2\n",
      "    sqDistances = sqDiffMat.sum(axis=1)\n",
      "    distances = sqDistances**0.5\n",
      "    sortedDistIndicies = distances.argsort()\n",
      "    \n",
      "    # voting with lowest k distances\n",
      "    classCount = {}\n",
      "    for i in range(k):\n",
      "        voteIlabel = labels[sortedDistIndicies[i]]\n",
      "        classCount[voteIlabel] = classCount.get(voteIlabel, 0) + 1\n",
      "        \n",
      "    # sort dictionary\n",
      "    sortedClassCount = sorted(classCount.iteritems(), key=operator.itemgetter(1), reverse=True)\n",
      "    \n",
      "    return sortedClassCount[0][0]"
     ],
     "language": "python",
     "metadata": {},
     "outputs": [],
     "prompt_number": 42
    },
    {
     "cell_type": "code",
     "collapsed": false,
     "input": [
      "group, labels = createDataSet()"
     ],
     "language": "python",
     "metadata": {},
     "outputs": [],
     "prompt_number": 9
    },
    {
     "cell_type": "code",
     "collapsed": false,
     "input": [
      "classify0([0, 0], group, labels, 3)"
     ],
     "language": "python",
     "metadata": {},
     "outputs": [
      {
       "metadata": {},
       "output_type": "pyout",
       "prompt_number": 10,
       "text": [
        "'B'"
       ]
      }
     ],
     "prompt_number": 10
    },
    {
     "cell_type": "heading",
     "level": 1,
     "metadata": {},
     "source": [
      "Example: improving matches from a dating site with kNN"
     ]
    },
    {
     "cell_type": "code",
     "collapsed": false,
     "input": [
      "def file2matrix(filename, nColumns):\n",
      "    \"\"\"\n",
      "    filename is a text file with 'nColumns+1' columns\n",
      "    the last column being the class\n",
      "    \n",
      "    nColumns is the number of columns\n",
      "    \"\"\"\n",
      "    \n",
      "    # get number of lines in file\n",
      "    fr = open(filename)\n",
      "    numberOfLines = len(fr.readlines())\n",
      "    \n",
      "    # create numpy matrix to return\n",
      "    returnMat = np.zeros((numberOfLines, nColumns))\n",
      "    classLabelVector = []\n",
      "    \n",
      "    # parse line to a list\n",
      "    fr = open(filename)\n",
      "    for index, line in enumerate(fr.readlines()):\n",
      "        line = line.strip()\n",
      "        listFromLine = line.split('\\t')\n",
      "        returnMat[index,:] = listFromLine[0:nColumns]\n",
      "        classLabelVector.append(listFromLine[-1])\n",
      "        \n",
      "    return returnMat,classLabelVector"
     ],
     "language": "python",
     "metadata": {},
     "outputs": [],
     "prompt_number": 15
    },
    {
     "cell_type": "code",
     "collapsed": false,
     "input": [
      "datingDataMat, datingLabels = file2matrix('machinelearninginaction/Ch02/datingTestSet.txt', 3)"
     ],
     "language": "python",
     "metadata": {},
     "outputs": [],
     "prompt_number": 16
    },
    {
     "cell_type": "code",
     "collapsed": false,
     "input": [
      "datingDataMat.shape"
     ],
     "language": "python",
     "metadata": {},
     "outputs": [
      {
       "metadata": {},
       "output_type": "pyout",
       "prompt_number": 20,
       "text": [
        "(1000, 3)"
       ]
      }
     ],
     "prompt_number": 20
    },
    {
     "cell_type": "code",
     "collapsed": false,
     "input": [
      "import matplotlib\n",
      "import matplotlib.pyplot as plt"
     ],
     "language": "python",
     "metadata": {},
     "outputs": [],
     "prompt_number": 23
    },
    {
     "cell_type": "code",
     "collapsed": false,
     "input": [
      "fig = plt.figure()\n",
      "ax = fig.add_subplot(111)\n",
      "ax.scatter(datingDataMat[:,1], datingDataMat[:,2])\n",
      "plt.show()"
     ],
     "language": "python",
     "metadata": {},
     "outputs": [
      {
       "metadata": {},
       "output_type": "display_data",
       "png": "[encoded data removed]",
       "text": [
        "<matplotlib.figure.Figure at 0x10633dd10>"
       ]
      }
     ],
     "prompt_number": 36
    },
    {
     "cell_type": "markdown",
     "metadata": {},
     "source": [
      "When dealing with values that lie in different ranges, it\u2019s common to normalize them"
     ]
    },
    {
     "cell_type": "code",
     "collapsed": false,
     "input": [
      "def autoNorm(dataSet):\n",
      "    \"\"\"\n",
      "    Normalizes all columns to be between 0 and 1\n",
      "    \"\"\"\n",
      "    minVals = dataSet.min(0)\n",
      "    maxVals = dataSet.max(0)\n",
      "    ranges = maxVals - minVals\n",
      "    normDataSet = np.zeros(dataSet.shape)\n",
      "    m = dataSet.shape[0]\n",
      "    normDataSet = dataSet - np.tile(minVals, (m,1))\n",
      "    normDataSet = normDataSet / np.tile(ranges, (m,1))\n",
      "    return normDataSet, ranges, minVals"
     ],
     "language": "python",
     "metadata": {},
     "outputs": [],
     "prompt_number": 37
    },
    {
     "cell_type": "code",
     "collapsed": false,
     "input": [
      "normMat, ranges, minVals = autoNorm(datingDataMat)"
     ],
     "language": "python",
     "metadata": {},
     "outputs": [],
     "prompt_number": 38
    },
    {
     "cell_type": "code",
     "collapsed": false,
     "input": [
      "normMat"
     ],
     "language": "python",
     "metadata": {},
     "outputs": [
      {
       "metadata": {},
       "output_type": "pyout",
       "prompt_number": 39,
       "text": [
        "array([[ 0.44832535,  0.39805139,  0.56233353],\n",
        "       [ 0.15873259,  0.34195467,  0.98724416],\n",
        "       [ 0.28542943,  0.06892523,  0.47449629],\n",
        "       ..., \n",
        "       [ 0.29115949,  0.50910294,  0.51079493],\n",
        "       [ 0.52711097,  0.43665451,  0.4290048 ],\n",
        "       [ 0.47940793,  0.3768091 ,  0.78571804]])"
       ]
      }
     ],
     "prompt_number": 39
    },
    {
     "cell_type": "code",
     "collapsed": false,
     "input": [
      "print ranges\n",
      "print minVals"
     ],
     "language": "python",
     "metadata": {},
     "outputs": [
      {
       "output_type": "stream",
       "stream": "stdout",
       "text": [
        "[  9.12730000e+04   2.09193490e+01   1.69436100e+00]\n",
        "[ 0.        0.        0.001156]\n"
       ]
      }
     ],
     "prompt_number": 41
    },
    {
     "cell_type": "markdown",
     "metadata": {},
     "source": [
      "You could have returned just normMat, but you need the ranges and minimum values to **normalize test data**."
     ]
    },
    {
     "cell_type": "code",
     "collapsed": false,
     "input": [
      "def datingClassTest(hoRatio):\n",
      "    \"\"\"\n",
      "    Calculates the error rate using the first 10% of data as test\n",
      "    \"\"\"\n",
      "    \n",
      "#     hoRatio = 0.10   # the ratio of test data\n",
      "    \n",
      "    datingDataMat, datingLabels = file2matrix('machinelearninginaction/Ch02/datingTestSet.txt', 3)\n",
      "    normMat, ranges, minVals = autoNorm(datingDataMat)\n",
      "    \n",
      "    # taking the first 10% of data as test\n",
      "    m = normMat.shape[0]\n",
      "    numTestVecs = int(m*hoRatio)\n",
      "    errorCount = 0.0\n",
      "    \n",
      "    for i in range(numTestVecs):\n",
      "        classifierResult = classify0(normMat[i, :], \n",
      "                                     normMat[numTestVecs:m, :], \n",
      "                                     datingLabels[numTestVecs:m],\n",
      "                                     3)\n",
      "#         print \"the classifier came back with: %s, the real answer is: %s\" % (classifierResult, datingLabels[i])\n",
      "        if (classifierResult != datingLabels[i]): errorCount += 1.0\n",
      "            \n",
      "#     print \"the total error rate is: %f\" % (errorCount / float(numTestVecs))\n",
      "    return errorCount / float(numTestVecs)"
     ],
     "language": "python",
     "metadata": {},
     "outputs": [],
     "prompt_number": 49
    },
    {
     "cell_type": "code",
     "collapsed": false,
     "input": [
      "plt.plot(range(1, 99), [datingClassTest(x/100.0) for x in range(1, 99)])"
     ],
     "language": "python",
     "metadata": {},
     "outputs": [
      {
       "metadata": {},
       "output_type": "pyout",
       "prompt_number": 53,
       "text": [
        "[<matplotlib.lines.Line2D at 0x106399fd0>]"
       ]
      },
      {
       "metadata": {},
       "output_type": "display_data",
       "png": "[encoded data removed]",
       "text": [
        "<matplotlib.figure.Figure at 0x10655ad50>"
       ]
      }
     ],
     "prompt_number": 53
    },
    {
     "cell_type": "code",
     "collapsed": false,
     "input": [
      "def classifyPerson():\n",
      "    # get input from user\n",
      "    resultList = ['not at all', 'in small doses', 'in large doses']\n",
      "    percentTats = float(raw_input(\"percentage of time spent playing video games?\"))\n",
      "    ffMiles = float(raw_input(\"frequent flier miles earned per year?\"))\n",
      "    iceCream = float(raw_input(\"liters of ice cream consumed per year?\"))\n",
      "    \n",
      "    datingDataMat, datingLabels = file2matrix('machinelearninginaction/Ch02/datingTestSet.txt', 3)\n",
      "    normMat, ranges, minVals = autoNorm(datingDataMat)\n",
      "    inArr = array([ffMiles, percentTats, iceCream])\n",
      "    classifierResult = classify0((inArr - minVals) / ranges, normMat, datingLabels, 3)\n",
      "    print \"You will probably like this person: \", classifierResult"
     ],
     "language": "python",
     "metadata": {},
     "outputs": [
      {
       "output_type": "stream",
       "stream": "stdout",
       "text": [
        "\n"
       ]
      }
     ],
     "prompt_number": 60
    },
    {
     "cell_type": "code",
     "collapsed": false,
     "input": [
      "classifyPerson()"
     ],
     "language": "python",
     "metadata": {},
     "outputs": [
      {
       "name": "stdout",
       "output_type": "stream",
       "stream": "stdout",
       "text": [
        "percentage of time spent playing video games?10\n"
       ]
      },
      {
       "name": "stdout",
       "output_type": "stream",
       "stream": "stdout",
       "text": [
        "frequent flier miles earned per year?10000\n"
       ]
      },
      {
       "name": "stdout",
       "output_type": "stream",
       "stream": "stdout",
       "text": [
        "liters of ice cream consumed per year?0.5\n"
       ]
      },
      {
       "output_type": "stream",
       "stream": "stdout",
       "text": [
        "You will probably like this person:  smallDoses\n"
       ]
      }
     ],
     "prompt_number": 61
    },
    {
     "cell_type": "heading",
     "level": 1,
     "metadata": {},
     "source": [
      "Example: a handwriting recognition system"
     ]
    },
    {
     "cell_type": "code",
     "collapsed": false,
     "input": [
      "def img2vector(filename):\n",
      "    returnVect = zeros((1,1024))\n",
      "    fr = open(filename)\n",
      "    for i in range(32):\n",
      "        lineStr = fr.readline()\n",
      "        for j in range(32):\n",
      "            returnVect[0,32*i+j] = int(lineStr[j])\n",
      "    return returnVect"
     ],
     "language": "python",
     "metadata": {},
     "outputs": [],
     "prompt_number": 62
    },
    {
     "cell_type": "code",
     "collapsed": false,
     "input": [
      "def handwritingClassTest():\n",
      "    hwLabels = []\n",
      "    trainingFileList = os.listdir('machinelearninginaction/Ch02/digits/trainingDigits')\n",
      "    m = len(trainingFileList)\n",
      "    trainingMat = np.zeros((m, 1024))\n",
      "    for i in range(m):\n",
      "        fileNameStr = trainingFileList[i]\n",
      "        fileStr = fileNameStr.split('.')[0]\n",
      "        classNumStr = int(fileStr.split('_')[0])\n",
      "        hwLabels.append(classNumStr)\n",
      "        trainingMat[i,:] = img2vector('machinelearninginaction/Ch02/digits/trainingDigits/%s' % fileNameStr)\n",
      "    testFileList = os.listdir('machinelearninginaction/Ch02/digits/testDigits')\n",
      "    errorCount = 0.0\n",
      "    mTest = len(testFileList)\n",
      "    for i in range(mTest):\n",
      "        fileNameStr = testFileList[i]\n",
      "        fileStr = fileNameStr.split('.')[0]\n",
      "        classNumStr = int(fileStr.split('_')[0])\n",
      "        vectorUnderTest = img2vector('machinelearninginaction/Ch02/digits/testDigits/%s' % fileNameStr)\n",
      "        classifierResult = classify0(vectorUnderTest, trainingMat, hwLabels, 3)\n",
      "        print \"the classifier came back with: %d, the real answer is: %d\"\\\n",
      "                                % (classifierResult, classNumStr)\n",
      "        if (classifierResult != classNumStr): errorCount += 1.0\n",
      "    print \"\\nthe total number of errors is: %d\" % errorCount\n",
      "    print \"\\nthe total error rate is: %f\" % (errorCount/float(mTest))"
     ],
     "language": "python",
     "metadata": {},
     "outputs": [],
     "prompt_number": 66
    },
    {
     "cell_type": "code",
     "collapsed": false,
     "input": [
      "handwritingClassTest()"
     ],
     "language": "python",
     "metadata": {},
     "outputs": [
      {
       "output_type": "stream",
       "stream": "stdout",
       "text": [
        "the classifier came back with: 0, the real answer is: 0\n",
        "the classifier came back with: 0, the real answer is: 0\n",
        "the classifier came back with: 0, the real answer is: 0\n",
        "the classifier came back with: 0, the real answer is: 0"
       ]
      },
      {
       "output_type": "stream",
       "stream": "stdout",
       "text": [
        "\n",
        "the classifier came back with: 0, the real answer is: 0\n",
        "the classifier came back with: 0, the real answer is: 0"
       ]
      },
      {
       "output_type": "stream",
       "stream": "stdout",
       "text": [
        "\n",
        "the classifier came back with: 0, the real answer is: 0\n",
        "the classifier came back with: 0, the real answer is: 0\n",
        "the classifier came back with: 0, the real answer is: 0"
       ]
      },
      {
       "output_type": "stream",
       "stream": "stdout",
       "text": [
        "\n",
        "the classifier came back with: 0, the real answer is: 0\n",
        "the classifier came back with: 0, the real answer is: 0"
       ]
      },
      {
       "output_type": "stream",
       "stream": "stdout",
       "text": [
        "\n",
        "the classifier came back with: 0, the real answer is: 0\n",
        "the classifier came back with: 0, the real answer is: 0\n",
        "the classifier came back with: 0, the real answer is: 0"
       ]
      },
      {
       "output_type": "stream",
       "stream": "stdout",
       "text": [
        "\n",
        "the classifier came back with: 0, the real answer is: 0\n",
        "the classifier came back with: 0, the real answer is: 0\n",
        "the classifier came back with: 0, the real answer is: 0"
       ]
      },
      {
       "output_type": "stream",
       "stream": "stdout",
       "text": [
        "\n",
        "the classifier came back with: 0, the real answer is: 0\n",
        "the classifier came back with: 0, the real answer is: 0\n",
        "the classifier came back with: 0, the real answer is: 0"
       ]
      },
      {
       "output_type": "stream",
       "stream": "stdout",
       "text": [
        "\n",
        "the classifier came back with: 0, the real answer is: 0\n",
        "the classifier came back with: 0, the real answer is: 0\n",
        "the classifier came back with: 0, the real answer is: 0"
       ]
      },
      {
       "output_type": "stream",
       "stream": "stdout",
       "text": [
        "\n",
        "the classifier came back with: 0, the real answer is: 0\n",
        "the classifier came back with: 0, the real answer is: 0\n",
        "the classifier came back with: 0, the real answer is: 0"
       ]
      },
      {
       "output_type": "stream",
       "stream": "stdout",
       "text": [
        "\n",
        "the classifier came back with: 0, the real answer is: 0\n",
        "the classifier came back with: 0, the real answer is: 0\n",
        "the classifier came back with: 0, the real answer is: 0"
       ]
      },
      {
       "output_type": "stream",
       "stream": "stdout",
       "text": [
        "\n",
        "the classifier came back with: 0, the real answer is: 0\n",
        "the classifier came back with: 0, the real answer is: 0\n",
        "the classifier came back with: 0, the real answer is: 0"
       ]
      },
      {
       "output_type": "stream",
       "stream": "stdout",
       "text": [
        "\n",
        "the classifier came back with: 0, the real answer is: 0\n",
        "the classifier came back with: 0, the real answer is: 0\n",
        "the classifier came back with: 0, the real answer is: 0"
       ]
      },
      {
       "output_type": "stream",
       "stream": "stdout",
       "text": [
        "\n",
        "the classifier came back with: 0, the real answer is: 0\n",
        "the classifier came back with: 0, the real answer is: 0"
       ]
      },
      {
       "output_type": "stream",
       "stream": "stdout",
       "text": [
        "\n",
        "the classifier came back with: 0, the real answer is: 0\n",
        "the classifier came back with: 0, the real answer is: 0"
       ]
      },
      {
       "output_type": "stream",
       "stream": "stdout",
       "text": [
        "\n",
        "the classifier came back with: 0, the real answer is: 0\n",
        "the classifier came back with: 0, the real answer is: 0"
       ]
      },
      {
       "output_type": "stream",
       "stream": "stdout",
       "text": [
        "\n",
        "the classifier came back with: 0, the real answer is: 0\n",
        "the classifier came back with: 0, the real answer is: 0"
       ]
      },
      {
       "output_type": "stream",
       "stream": "stdout",
       "text": [
        "\n",
        "the classifier came back with: 0, the real answer is: 0\n",
        "the classifier came back with: 0, the real answer is: 0"
       ]
      },
      {
       "output_type": "stream",
       "stream": "stdout",
       "text": [
        "\n",
        "the classifier came back with: 0, the real answer is: 0\n",
        "the classifier came back with: 0, the real answer is: 0"
       ]
      },
      {
       "output_type": "stream",
       "stream": "stdout",
       "text": [
        "\n",
        "the classifier came back with: 0, the real answer is: 0\n",
        "the classifier came back with: 0, the real answer is: 0"
       ]
      },
      {
       "output_type": "stream",
       "stream": "stdout",
       "text": [
        "\n",
        "the classifier came back with: 0, the real answer is: 0\n",
        "the classifier came back with: 0, the real answer is: 0"
       ]
      },
      {
       "output_type": "stream",
       "stream": "stdout",
       "text": [
        "\n",
        "the classifier came back with: 0, the real answer is: 0\n",
        "the classifier came back with: 0, the real answer is: 0"
       ]
      },
      {
       "output_type": "stream",
       "stream": "stdout",
       "text": [
        "\n",
        "the classifier came back with: 0, the real answer is: 0\n",
        "the classifier came back with: 0, the real answer is: 0\n",
        "the classifier came back with: 0, the real answer is: 0"
       ]
      },
      {
       "output_type": "stream",
       "stream": "stdout",
       "text": [
        "\n",
        "the classifier came back with: 0, the real answer is: 0\n",
        "the classifier came back with: 0, the real answer is: 0\n",
        "the classifier came back with: 0, the real answer is: 0"
       ]
      },
      {
       "output_type": "stream",
       "stream": "stdout",
       "text": [
        "\n",
        "the classifier came back with: 0, the real answer is: 0\n",
        "the classifier came back with: 0, the real answer is: 0"
       ]
      },
      {
       "output_type": "stream",
       "stream": "stdout",
       "text": [
        "\n",
        "the classifier came back with: 0, the real answer is: 0\n",
        "the classifier came back with: 0, the real answer is: 0\n",
        "the classifier came back with: 0, the real answer is: 0"
       ]
      },
      {
       "output_type": "stream",
       "stream": "stdout",
       "text": [
        "\n",
        "the classifier came back with: 0, the real answer is: 0\n",
        "the classifier came back with: 0, the real answer is: 0"
       ]
      },
      {
       "output_type": "stream",
       "stream": "stdout",
       "text": [
        "\n",
        "the classifier came back with: 0, the real answer is: 0\n",
        "the classifier came back with: 0, the real answer is: 0"
       ]
      },
      {
       "output_type": "stream",
       "stream": "stdout",
       "text": [
        "\n",
        "the classifier came back with: 0, the real answer is: 0\n",
        "the classifier came back with: 0, the real answer is: 0"
       ]
      },
      {
       "output_type": "stream",
       "stream": "stdout",
       "text": [
        "\n",
        "the classifier came back with: 0, the real answer is: 0\n",
        "the classifier came back with: 0, the real answer is: 0"
       ]
      },
      {
       "output_type": "stream",
       "stream": "stdout",
       "text": [
        "\n",
        "the classifier came back with: 0, the real answer is: 0\n",
        "the classifier came back with: 0, the real answer is: 0"
       ]
      },
      {
       "output_type": "stream",
       "stream": "stdout",
       "text": [
        "\n",
        "the classifier came back with: 0, the real answer is: 0\n",
        "the classifier came back with: 0, the real answer is: 0"
       ]
      },
      {
       "output_type": "stream",
       "stream": "stdout",
       "text": [
        "\n",
        "the classifier came back with: 0, the real answer is: 0\n",
        "the classifier came back with: 0, the real answer is: 0"
       ]
      },
      {
       "output_type": "stream",
       "stream": "stdout",
       "text": [
        "\n",
        "the classifier came back with: 0, the real answer is: 0\n",
        "the classifier came back with: 0, the real answer is: 0\n",
        "the classifier came back with: 0, the real answer is: 0"
       ]
      },
      {
       "output_type": "stream",
       "stream": "stdout",
       "text": [
        "\n",
        "the classifier came back with: 0, the real answer is: 0\n",
        "the classifier came back with: 0, the real answer is: 0"
       ]
      },
      {
       "output_type": "stream",
       "stream": "stdout",
       "text": [
        "\n",
        "the classifier came back with: 0, the real answer is: 0\n",
        "the classifier came back with: 0, the real answer is: 0"
       ]
      },
      {
       "output_type": "stream",
       "stream": "stdout",
       "text": [
        "\n",
        "the classifier came back with: 0, the real answer is: 0\n",
        "the classifier came back with: 0, the real answer is: 0"
       ]
      },
      {
       "output_type": "stream",
       "stream": "stdout",
       "text": [
        "\n",
        "the classifier came back with: 1, the real answer is: 1\n",
        "the classifier came back with: 1, the real answer is: 1"
       ]
      },
      {
       "output_type": "stream",
       "stream": "stdout",
       "text": [
        "\n",
        "the classifier came back with: 1, the real answer is: 1\n",
        "the classifier came back with: 1, the real answer is: 1"
       ]
      },
      {
       "output_type": "stream",
       "stream": "stdout",
       "text": [
        "\n",
        "the classifier came back with: 1, the real answer is: 1\n",
        "the classifier came back with: 1, the real answer is: 1"
       ]
      },
      {
       "output_type": "stream",
       "stream": "stdout",
       "text": [
        "\n",
        "the classifier came back with: 1, the real answer is: 1\n",
        "the classifier came back with: 1, the real answer is: 1\n",
        "the classifier came back with: 1, the real answer is: 1"
       ]
      },
      {
       "output_type": "stream",
       "stream": "stdout",
       "text": [
        "\n",
        "the classifier came back with: 1, the real answer is: 1\n",
        "the classifier came back with: 1, the real answer is: 1"
       ]
      },
      {
       "output_type": "stream",
       "stream": "stdout",
       "text": [
        "\n",
        "the classifier came back with: 1, the real answer is: 1\n",
        "the classifier came back with: 1, the real answer is: 1\n",
        "the classifier came back with: 1, the real answer is: 1"
       ]
      },
      {
       "output_type": "stream",
       "stream": "stdout",
       "text": [
        "\n",
        "the classifier came back with: 1, the real answer is: 1\n",
        "the classifier came back with: 1, the real answer is: 1"
       ]
      },
      {
       "output_type": "stream",
       "stream": "stdout",
       "text": [
        "\n",
        "the classifier came back with: 1, the real answer is: 1\n",
        "the classifier came back with: 1, the real answer is: 1"
       ]
      },
      {
       "output_type": "stream",
       "stream": "stdout",
       "text": [
        "\n",
        "the classifier came back with: 1, the real answer is: 1\n",
        "the classifier came back with: 1, the real answer is: 1"
       ]
      },
      {
       "output_type": "stream",
       "stream": "stdout",
       "text": [
        "\n",
        "the classifier came back with: 1, the real answer is: 1\n",
        "the classifier came back with: 1, the real answer is: 1"
       ]
      },
      {
       "output_type": "stream",
       "stream": "stdout",
       "text": [
        "\n",
        "the classifier came back with: 1, the real answer is: 1\n",
        "the classifier came back with: 1, the real answer is: 1"
       ]
      },
      {
       "output_type": "stream",
       "stream": "stdout",
       "text": [
        "\n",
        "the classifier came back with: 1, the real answer is: 1\n",
        "the classifier came back with: 1, the real answer is: 1"
       ]
      },
      {
       "output_type": "stream",
       "stream": "stdout",
       "text": [
        "\n",
        "the classifier came back with: 1, the real answer is: 1\n",
        "the classifier came back with: 1, the real answer is: 1"
       ]
      },
      {
       "output_type": "stream",
       "stream": "stdout",
       "text": [
        "\n",
        "the classifier came back with: 1, the real answer is: 1\n",
        "the classifier came back with: 1, the real answer is: 1"
       ]
      },
      {
       "output_type": "stream",
       "stream": "stdout",
       "text": [
        "\n",
        "the classifier came back with: 1, the real answer is: 1\n",
        "the classifier came back with: 1, the real answer is: 1\n",
        "the classifier came back with: 1, the real answer is: 1"
       ]
      },
      {
       "output_type": "stream",
       "stream": "stdout",
       "text": [
        "\n",
        "the classifier came back with: 1, the real answer is: 1\n",
        "the classifier came back with: 1, the real answer is: 1\n",
        "the classifier came back with: 1, the real answer is: 1"
       ]
      },
      {
       "output_type": "stream",
       "stream": "stdout",
       "text": [
        "\n",
        "the classifier came back with: 1, the real answer is: 1\n",
        "the classifier came back with: 1, the real answer is: 1"
       ]
      },
      {
       "output_type": "stream",
       "stream": "stdout",
       "text": [
        "\n",
        "the classifier came back with: 1, the real answer is: 1\n",
        "the classifier came back with: 1, the real answer is: 1"
       ]
      },
      {
       "output_type": "stream",
       "stream": "stdout",
       "text": [
        "\n",
        "the classifier came back with: 1, the real answer is: 1\n",
        "the classifier came back with: 1, the real answer is: 1"
       ]
      },
      {
       "output_type": "stream",
       "stream": "stdout",
       "text": [
        "\n",
        "the classifier came back with: 1, the real answer is: 1\n",
        "the classifier came back with: 1, the real answer is: 1"
       ]
      },
      {
       "output_type": "stream",
       "stream": "stdout",
       "text": [
        "\n",
        "the classifier came back with: 1, the real answer is: 1\n",
        "the classifier came back with: 1, the real answer is: 1"
       ]
      },
      {
       "output_type": "stream",
       "stream": "stdout",
       "text": [
        "\n",
        "the classifier came back with: 1, the real answer is: 1\n",
        "the classifier came back with: 1, the real answer is: 1\n",
        "the classifier came back with: 1, the real answer is: 1"
       ]
      },
      {
       "output_type": "stream",
       "stream": "stdout",
       "text": [
        "\n",
        "the classifier came back with: 1, the real answer is: 1\n",
        "the classifier came back with: 1, the real answer is: 1"
       ]
      },
      {
       "output_type": "stream",
       "stream": "stdout",
       "text": [
        "\n",
        "the classifier came back with: 1, the real answer is: 1\n",
        "the classifier came back with: 1, the real answer is: 1"
       ]
      },
      {
       "output_type": "stream",
       "stream": "stdout",
       "text": [
        "\n",
        "the classifier came back with: 1, the real answer is: 1\n",
        "the classifier came back with: 1, the real answer is: 1\n",
        "the classifier came back with: 1, the real answer is: 1"
       ]
      },
      {
       "output_type": "stream",
       "stream": "stdout",
       "text": [
        "\n",
        "the classifier came back with: 1, the real answer is: 1\n",
        "the classifier came back with: 1, the real answer is: 1\n",
        "the classifier came back with: 1, the real answer is: 1"
       ]
      },
      {
       "output_type": "stream",
       "stream": "stdout",
       "text": [
        "\n",
        "the classifier came back with: 1, the real answer is: 1\n",
        "the classifier came back with: 1, the real answer is: 1\n",
        "the classifier came back with: 1, the real answer is: 1"
       ]
      },
      {
       "output_type": "stream",
       "stream": "stdout",
       "text": [
        "\n",
        "the classifier came back with: 1, the real answer is: 1\n",
        "the classifier came back with: 1, the real answer is: 1\n",
        "the classifier came back with: 1, the real answer is: 1"
       ]
      },
      {
       "output_type": "stream",
       "stream": "stdout",
       "text": [
        "\n",
        "the classifier came back with: 1, the real answer is: 1\n",
        "the classifier came back with: 1, the real answer is: 1"
       ]
      },
      {
       "output_type": "stream",
       "stream": "stdout",
       "text": [
        "\n",
        "the classifier came back with: 1, the real answer is: 1\n",
        "the classifier came back with: 1, the real answer is: 1\n",
        "the classifier came back with: 1, the real answer is: 1"
       ]
      },
      {
       "output_type": "stream",
       "stream": "stdout",
       "text": [
        "\n",
        "the classifier came back with: 1, the real answer is: 1\n",
        "the classifier came back with: 1, the real answer is: 1"
       ]
      },
      {
       "output_type": "stream",
       "stream": "stdout",
       "text": [
        "\n",
        "the classifier came back with: 1, the real answer is: 1\n",
        "the classifier came back with: 1, the real answer is: 1"
       ]
      },
      {
       "output_type": "stream",
       "stream": "stdout",
       "text": [
        "\n",
        "the classifier came back with: 1, the real answer is: 1\n",
        "the classifier came back with: 1, the real answer is: 1\n",
        "the classifier came back with: 1, the real answer is: 1"
       ]
      },
      {
       "output_type": "stream",
       "stream": "stdout",
       "text": [
        "\n",
        "the classifier came back with: 1, the real answer is: 1\n",
        "the classifier came back with: 1, the real answer is: 1"
       ]
      },
      {
       "output_type": "stream",
       "stream": "stdout",
       "text": [
        "\n",
        "the classifier came back with: 1, the real answer is: 1\n",
        "the classifier came back with: 1, the real answer is: 1"
       ]
      },
      {
       "output_type": "stream",
       "stream": "stdout",
       "text": [
        "\n",
        "the classifier came back with: 1, the real answer is: 1\n",
        "the classifier came back with: 1, the real answer is: 1"
       ]
      },
      {
       "output_type": "stream",
       "stream": "stdout",
       "text": [
        "\n",
        "the classifier came back with: 1, the real answer is: 1\n",
        "the classifier came back with: 1, the real answer is: 1"
       ]
      },
      {
       "output_type": "stream",
       "stream": "stdout",
       "text": [
        "\n",
        "the classifier came back with: 7, the real answer is: 1\n",
        "the classifier came back with: 1, the real answer is: 1"
       ]
      },
      {
       "output_type": "stream",
       "stream": "stdout",
       "text": [
        "\n",
        "the classifier came back with: 1, the real answer is: 1\n",
        "the classifier came back with: 1, the real answer is: 1"
       ]
      },
      {
       "output_type": "stream",
       "stream": "stdout",
       "text": [
        "\n",
        "the classifier came back with: 1, the real answer is: 1\n",
        "the classifier came back with: 1, the real answer is: 1"
       ]
      },
      {
       "output_type": "stream",
       "stream": "stdout",
       "text": [
        "\n",
        "the classifier came back with: 1, the real answer is: 1\n",
        "the classifier came back with: 1, the real answer is: 1"
       ]
      },
      {
       "output_type": "stream",
       "stream": "stdout",
       "text": [
        "\n",
        "the classifier came back with: 1, the real answer is: 1\n",
        "the classifier came back with: 1, the real answer is: 1\n",
        "the classifier came back with: 1, the real answer is: 1"
       ]
      },
      {
       "output_type": "stream",
       "stream": "stdout",
       "text": [
        "\n",
        "the classifier came back with: 1, the real answer is: 1\n",
        "the classifier came back with: 2, the real answer is: 2"
       ]
      },
      {
       "output_type": "stream",
       "stream": "stdout",
       "text": [
        "\n",
        "the classifier came back with: 2, the real answer is: 2\n",
        "the classifier came back with: 2, the real answer is: 2"
       ]
      },
      {
       "output_type": "stream",
       "stream": "stdout",
       "text": [
        "\n",
        "the classifier came back with: 2, the real answer is: 2\n",
        "the classifier came back with: 2, the real answer is: 2"
       ]
      },
      {
       "output_type": "stream",
       "stream": "stdout",
       "text": [
        "\n",
        "the classifier came back with: 2, the real answer is: 2\n",
        "the classifier came back with: 2, the real answer is: 2"
       ]
      },
      {
       "output_type": "stream",
       "stream": "stdout",
       "text": [
        "\n",
        "the classifier came back with: 2, the real answer is: 2\n",
        "the classifier came back with: 2, the real answer is: 2"
       ]
      },
      {
       "output_type": "stream",
       "stream": "stdout",
       "text": [
        "\n",
        "the classifier came back with: 2, the real answer is: 2\n",
        "the classifier came back with: 2, the real answer is: 2"
       ]
      },
      {
       "output_type": "stream",
       "stream": "stdout",
       "text": [
        "\n",
        "the classifier came back with: 2, the real answer is: 2\n",
        "the classifier came back with: 2, the real answer is: 2\n",
        "the classifier came back with: 2, the real answer is: 2"
       ]
      },
      {
       "output_type": "stream",
       "stream": "stdout",
       "text": [
        "\n",
        "the classifier came back with: 2, the real answer is: 2\n",
        "the classifier came back with: 2, the real answer is: 2"
       ]
      },
      {
       "output_type": "stream",
       "stream": "stdout",
       "text": [
        "\n",
        "the classifier came back with: 2, the real answer is: 2\n",
        "the classifier came back with: 2, the real answer is: 2"
       ]
      },
      {
       "output_type": "stream",
       "stream": "stdout",
       "text": [
        "\n",
        "the classifier came back with: 2, the real answer is: 2\n",
        "the classifier came back with: 2, the real answer is: 2"
       ]
      },
      {
       "output_type": "stream",
       "stream": "stdout",
       "text": [
        "\n",
        "the classifier came back with: 2, the real answer is: 2\n",
        "the classifier came back with: 2, the real answer is: 2"
       ]
      },
      {
       "output_type": "stream",
       "stream": "stdout",
       "text": [
        "\n",
        "the classifier came back with: 2, the real answer is: 2\n",
        "the classifier came back with: 2, the real answer is: 2"
       ]
      },
      {
       "output_type": "stream",
       "stream": "stdout",
       "text": [
        "\n",
        "the classifier came back with: 2, the real answer is: 2\n",
        "the classifier came back with: 2, the real answer is: 2"
       ]
      },
      {
       "output_type": "stream",
       "stream": "stdout",
       "text": [
        "\n",
        "the classifier came back with: 2, the real answer is: 2\n",
        "the classifier came back with: 2, the real answer is: 2"
       ]
      },
      {
       "output_type": "stream",
       "stream": "stdout",
       "text": [
        "\n",
        "the classifier came back with: 2, the real answer is: 2\n",
        "the classifier came back with: 2, the real answer is: 2\n",
        "the classifier came back with: 2, the real answer is: 2"
       ]
      },
      {
       "output_type": "stream",
       "stream": "stdout",
       "text": [
        "\n",
        "the classifier came back with: 2, the real answer is: 2\n",
        "the classifier came back with: 2, the real answer is: 2\n",
        "the classifier came back with: 2, the real answer is: 2"
       ]
      },
      {
       "output_type": "stream",
       "stream": "stdout",
       "text": [
        "\n",
        "the classifier came back with: 2, the real answer is: 2\n",
        "the classifier came back with: 2, the real answer is: 2\n",
        "the classifier came back with: 2, the real answer is: 2"
       ]
      },
      {
       "output_type": "stream",
       "stream": "stdout",
       "text": [
        "\n",
        "the classifier came back with: 2, the real answer is: 2\n",
        "the classifier came back with: 2, the real answer is: 2"
       ]
      },
      {
       "output_type": "stream",
       "stream": "stdout",
       "text": [
        "\n",
        "the classifier came back with: 2, the real answer is: 2\n",
        "the classifier came back with: 2, the real answer is: 2"
       ]
      },
      {
       "output_type": "stream",
       "stream": "stdout",
       "text": [
        "\n",
        "the classifier came back with: 2, the real answer is: 2\n",
        "the classifier came back with: 2, the real answer is: 2\n",
        "the classifier came back with: 2, the real answer is: 2"
       ]
      },
      {
       "output_type": "stream",
       "stream": "stdout",
       "text": [
        "\n",
        "the classifier came back with: 2, the real answer is: 2\n",
        "the classifier came back with: 2, the real answer is: 2"
       ]
      },
      {
       "output_type": "stream",
       "stream": "stdout",
       "text": [
        "\n",
        "the classifier came back with: 2, the real answer is: 2\n",
        "the classifier came back with: 2, the real answer is: 2"
       ]
      },
      {
       "output_type": "stream",
       "stream": "stdout",
       "text": [
        "\n",
        "the classifier came back with: 2, the real answer is: 2\n",
        "the classifier came back with: 2, the real answer is: 2"
       ]
      },
      {
       "output_type": "stream",
       "stream": "stdout",
       "text": [
        "\n",
        "the classifier came back with: 2, the real answer is: 2\n",
        "the classifier came back with: 2, the real answer is: 2"
       ]
      },
      {
       "output_type": "stream",
       "stream": "stdout",
       "text": [
        "\n",
        "the classifier came back with: 2, the real answer is: 2\n",
        "the classifier came back with: 2, the real answer is: 2"
       ]
      },
      {
       "output_type": "stream",
       "stream": "stdout",
       "text": [
        "\n",
        "the classifier came back with: 2, the real answer is: 2\n",
        "the classifier came back with: 2, the real answer is: 2"
       ]
      },
      {
       "output_type": "stream",
       "stream": "stdout",
       "text": [
        "\n",
        "the classifier came back with: 2, the real answer is: 2\n",
        "the classifier came back with: 2, the real answer is: 2\n",
        "the classifier came back with: 2, the real answer is: 2"
       ]
      },
      {
       "output_type": "stream",
       "stream": "stdout",
       "text": [
        "\n",
        "the classifier came back with: 2, the real answer is: 2\n",
        "the classifier came back with: 2, the real answer is: 2"
       ]
      },
      {
       "output_type": "stream",
       "stream": "stdout",
       "text": [
        "\n",
        "the classifier came back with: 2, the real answer is: 2\n",
        "the classifier came back with: 2, the real answer is: 2"
       ]
      },
      {
       "output_type": "stream",
       "stream": "stdout",
       "text": [
        "\n",
        "the classifier came back with: 2, the real answer is: 2\n",
        "the classifier came back with: 2, the real answer is: 2\n",
        "the classifier came back with: 2, the real answer is: 2"
       ]
      },
      {
       "output_type": "stream",
       "stream": "stdout",
       "text": [
        "\n",
        "the classifier came back with: 2, the real answer is: 2\n",
        "the classifier came back with: 2, the real answer is: 2"
       ]
      },
      {
       "output_type": "stream",
       "stream": "stdout",
       "text": [
        "\n",
        "the classifier came back with: 2, the real answer is: 2\n",
        "the classifier came back with: 2, the real answer is: 2"
       ]
      },
      {
       "output_type": "stream",
       "stream": "stdout",
       "text": [
        "\n",
        "the classifier came back with: 2, the real answer is: 2\n",
        "the classifier came back with: 2, the real answer is: 2"
       ]
      },
      {
       "output_type": "stream",
       "stream": "stdout",
       "text": [
        "\n",
        "the classifier came back with: 2, the real answer is: 2\n",
        "the classifier came back with: 2, the real answer is: 2"
       ]
      },
      {
       "output_type": "stream",
       "stream": "stdout",
       "text": [
        "\n",
        "the classifier came back with: 2, the real answer is: 2\n",
        "the classifier came back with: 2, the real answer is: 2"
       ]
      },
      {
       "output_type": "stream",
       "stream": "stdout",
       "text": [
        "\n",
        "the classifier came back with: 2, the real answer is: 2\n",
        "the classifier came back with: 2, the real answer is: 2"
       ]
      },
      {
       "output_type": "stream",
       "stream": "stdout",
       "text": [
        "\n",
        "the classifier came back with: 2, the real answer is: 2\n",
        "the classifier came back with: 2, the real answer is: 2"
       ]
      },
      {
       "output_type": "stream",
       "stream": "stdout",
       "text": [
        "\n",
        "the classifier came back with: 2, the real answer is: 2\n",
        "the classifier came back with: 2, the real answer is: 2"
       ]
      },
      {
       "output_type": "stream",
       "stream": "stdout",
       "text": [
        "\n",
        "the classifier came back with: 2, the real answer is: 2\n",
        "the classifier came back with: 2, the real answer is: 2"
       ]
      },
      {
       "output_type": "stream",
       "stream": "stdout",
       "text": [
        "\n",
        "the classifier came back with: 2, the real answer is: 2\n",
        "the classifier came back with: 2, the real answer is: 2"
       ]
      },
      {
       "output_type": "stream",
       "stream": "stdout",
       "text": [
        "\n",
        "the classifier came back with: 2, the real answer is: 2\n",
        "the classifier came back with: 2, the real answer is: 2"
       ]
      },
      {
       "output_type": "stream",
       "stream": "stdout",
       "text": [
        "\n",
        "the classifier came back with: 2, the real answer is: 2\n",
        "the classifier came back with: 2, the real answer is: 2"
       ]
      },
      {
       "output_type": "stream",
       "stream": "stdout",
       "text": [
        "\n",
        "the classifier came back with: 2, the real answer is: 2\n",
        "the classifier came back with: 2, the real answer is: 2"
       ]
      },
      {
       "output_type": "stream",
       "stream": "stdout",
       "text": [
        "\n",
        "the classifier came back with: 3, the real answer is: 3\n",
        "the classifier came back with: 3, the real answer is: 3"
       ]
      },
      {
       "output_type": "stream",
       "stream": "stdout",
       "text": [
        "\n",
        "the classifier came back with: 3, the real answer is: 3\n",
        "the classifier came back with: 9, the real answer is: 3\n",
        "the classifier came back with: 3, the real answer is: 3"
       ]
      },
      {
       "output_type": "stream",
       "stream": "stdout",
       "text": [
        "\n",
        "the classifier came back with: 3, the real answer is: 3\n",
        "the classifier came back with: 3, the real answer is: 3\n",
        "the classifier came back with: 3, the real answer is: 3"
       ]
      },
      {
       "output_type": "stream",
       "stream": "stdout",
       "text": [
        "\n",
        "the classifier came back with: 3, the real answer is: 3\n",
        "the classifier came back with: 3, the real answer is: 3"
       ]
      },
      {
       "output_type": "stream",
       "stream": "stdout",
       "text": [
        "\n",
        "the classifier came back with: 3, the real answer is: 3\n",
        "the classifier came back with: 3, the real answer is: 3"
       ]
      },
      {
       "output_type": "stream",
       "stream": "stdout",
       "text": [
        "\n",
        "the classifier came back with: 3, the real answer is: 3\n",
        "the classifier came back with: 3, the real answer is: 3"
       ]
      },
      {
       "output_type": "stream",
       "stream": "stdout",
       "text": [
        "\n",
        "the classifier came back with: 3, the real answer is: 3\n",
        "the classifier came back with: 3, the real answer is: 3"
       ]
      },
      {
       "output_type": "stream",
       "stream": "stdout",
       "text": [
        "\n",
        "the classifier came back with: 3, the real answer is: 3\n",
        "the classifier came back with: 3, the real answer is: 3"
       ]
      },
      {
       "output_type": "stream",
       "stream": "stdout",
       "text": [
        "\n",
        "the classifier came back with: 3, the real answer is: 3\n",
        "the classifier came back with: 3, the real answer is: 3\n",
        "the classifier came back with: 3, the real answer is: 3"
       ]
      },
      {
       "output_type": "stream",
       "stream": "stdout",
       "text": [
        "\n",
        "the classifier came back with: 3, the real answer is: 3\n",
        "the classifier came back with: 3, the real answer is: 3"
       ]
      },
      {
       "output_type": "stream",
       "stream": "stdout",
       "text": [
        "\n",
        "the classifier came back with: 3, the real answer is: 3\n",
        "the classifier came back with: 3, the real answer is: 3"
       ]
      },
      {
       "output_type": "stream",
       "stream": "stdout",
       "text": [
        "\n",
        "the classifier came back with: 3, the real answer is: 3\n",
        "the classifier came back with: 3, the real answer is: 3"
       ]
      },
      {
       "output_type": "stream",
       "stream": "stdout",
       "text": [
        "\n",
        "the classifier came back with: 3, the real answer is: 3\n",
        "the classifier came back with: 3, the real answer is: 3"
       ]
      },
      {
       "output_type": "stream",
       "stream": "stdout",
       "text": [
        "\n",
        "the classifier came back with: 3, the real answer is: 3\n",
        "the classifier came back with: 3, the real answer is: 3"
       ]
      },
      {
       "output_type": "stream",
       "stream": "stdout",
       "text": [
        "\n",
        "the classifier came back with: 3, the real answer is: 3\n",
        "the classifier came back with: 3, the real answer is: 3\n",
        "the classifier came back with: 3, the real answer is: 3"
       ]
      },
      {
       "output_type": "stream",
       "stream": "stdout",
       "text": [
        "\n",
        "the classifier came back with: 3, the real answer is: 3\n",
        "the classifier came back with: 3, the real answer is: 3"
       ]
      },
      {
       "output_type": "stream",
       "stream": "stdout",
       "text": [
        "\n",
        "the classifier came back with: 3, the real answer is: 3\n",
        "the classifier came back with: 3, the real answer is: 3"
       ]
      },
      {
       "output_type": "stream",
       "stream": "stdout",
       "text": [
        "\n",
        "the classifier came back with: 3, the real answer is: 3\n",
        "the classifier came back with: 3, the real answer is: 3"
       ]
      },
      {
       "output_type": "stream",
       "stream": "stdout",
       "text": [
        "\n",
        "the classifier came back with: 3, the real answer is: 3\n",
        "the classifier came back with: 3, the real answer is: 3"
       ]
      },
      {
       "output_type": "stream",
       "stream": "stdout",
       "text": [
        "\n",
        "the classifier came back with: 3, the real answer is: 3\n",
        "the classifier came back with: 3, the real answer is: 3"
       ]
      },
      {
       "output_type": "stream",
       "stream": "stdout",
       "text": [
        "\n",
        "the classifier came back with: 3, the real answer is: 3\n",
        "the classifier came back with: 3, the real answer is: 3"
       ]
      },
      {
       "output_type": "stream",
       "stream": "stdout",
       "text": [
        "\n",
        "the classifier came back with: 3, the real answer is: 3\n",
        "the classifier came back with: 3, the real answer is: 3\n",
        "the classifier came back with: 3, the real answer is: 3"
       ]
      },
      {
       "output_type": "stream",
       "stream": "stdout",
       "text": [
        "\n",
        "the classifier came back with: 3, the real answer is: 3\n",
        "the classifier came back with: 3, the real answer is: 3"
       ]
      },
      {
       "output_type": "stream",
       "stream": "stdout",
       "text": [
        "\n",
        "the classifier came back with: 9, the real answer is: 3\n",
        "the classifier came back with: 3, the real answer is: 3"
       ]
      },
      {
       "output_type": "stream",
       "stream": "stdout",
       "text": [
        "\n",
        "the classifier came back with: 3, the real answer is: 3\n",
        "the classifier came back with: 3, the real answer is: 3"
       ]
      },
      {
       "output_type": "stream",
       "stream": "stdout",
       "text": [
        "\n",
        "the classifier came back with: 3, the real answer is: 3\n",
        "the classifier came back with: 3, the real answer is: 3"
       ]
      },
      {
       "output_type": "stream",
       "stream": "stdout",
       "text": [
        "\n",
        "the classifier came back with: 3, the real answer is: 3\n",
        "the classifier came back with: 3, the real answer is: 3"
       ]
      },
      {
       "output_type": "stream",
       "stream": "stdout",
       "text": [
        "\n",
        "the classifier came back with: 3, the real answer is: 3\n",
        "the classifier came back with: 3, the real answer is: 3"
       ]
      },
      {
       "output_type": "stream",
       "stream": "stdout",
       "text": [
        "\n",
        "the classifier came back with: 3, the real answer is: 3\n",
        "the classifier came back with: 3, the real answer is: 3\n",
        "the classifier came back with: 3, the real answer is: 3"
       ]
      },
      {
       "output_type": "stream",
       "stream": "stdout",
       "text": [
        "\n",
        "the classifier came back with: 3, the real answer is: 3\n",
        "the classifier came back with: 3, the real answer is: 3"
       ]
      },
      {
       "output_type": "stream",
       "stream": "stdout",
       "text": [
        "\n",
        "the classifier came back with: 3, the real answer is: 3\n",
        "the classifier came back with: 3, the real answer is: 3"
       ]
      },
      {
       "output_type": "stream",
       "stream": "stdout",
       "text": [
        "\n",
        "the classifier came back with: 3, the real answer is: 3\n",
        "the classifier came back with: 3, the real answer is: 3"
       ]
      },
      {
       "output_type": "stream",
       "stream": "stdout",
       "text": [
        "\n",
        "the classifier came back with: 3, the real answer is: 3\n",
        "the classifier came back with: 3, the real answer is: 3"
       ]
      },
      {
       "output_type": "stream",
       "stream": "stdout",
       "text": [
        "\n",
        "the classifier came back with: 3, the real answer is: 3\n",
        "the classifier came back with: 3, the real answer is: 3"
       ]
      },
      {
       "output_type": "stream",
       "stream": "stdout",
       "text": [
        "\n",
        "the classifier came back with: 3, the real answer is: 3\n",
        "the classifier came back with: 3, the real answer is: 3\n",
        "the classifier came back with: 3, the real answer is: 3"
       ]
      },
      {
       "output_type": "stream",
       "stream": "stdout",
       "text": [
        "\n",
        "the classifier came back with: 3, the real answer is: 3\n",
        "the classifier came back with: 3, the real answer is: 3"
       ]
      },
      {
       "output_type": "stream",
       "stream": "stdout",
       "text": [
        "\n",
        "the classifier came back with: 3, the real answer is: 3\n",
        "the classifier came back with: 3, the real answer is: 3"
       ]
      },
      {
       "output_type": "stream",
       "stream": "stdout",
       "text": [
        "\n",
        "the classifier came back with: 3, the real answer is: 3\n",
        "the classifier came back with: 3, the real answer is: 3\n",
        "the classifier came back with: 3, the real answer is: 3"
       ]
      },
      {
       "output_type": "stream",
       "stream": "stdout",
       "text": [
        "\n",
        "the classifier came back with: 3, the real answer is: 3\n",
        "the classifier came back with: 4, the real answer is: 4"
       ]
      },
      {
       "output_type": "stream",
       "stream": "stdout",
       "text": [
        "\n",
        "the classifier came back with: 4, the real answer is: 4\n",
        "the classifier came back with: 4, the real answer is: 4\n",
        "the classifier came back with: 4, the real answer is: 4"
       ]
      },
      {
       "output_type": "stream",
       "stream": "stdout",
       "text": [
        "\n",
        "the classifier came back with: 4, the real answer is: 4\n",
        "the classifier came back with: 4, the real answer is: 4\n",
        "the classifier came back with: 4, the real answer is: 4"
       ]
      },
      {
       "output_type": "stream",
       "stream": "stdout",
       "text": [
        "\n",
        "the classifier came back with: 4, the real answer is: 4\n",
        "the classifier came back with: 4, the real answer is: 4"
       ]
      },
      {
       "output_type": "stream",
       "stream": "stdout",
       "text": [
        "\n",
        "the classifier came back with: 4, the real answer is: 4\n",
        "the classifier came back with: 4, the real answer is: 4"
       ]
      },
      {
       "output_type": "stream",
       "stream": "stdout",
       "text": [
        "\n",
        "the classifier came back with: 4, the real answer is: 4\n",
        "the classifier came back with: 4, the real answer is: 4\n",
        "the classifier came back with: 4, the real answer is: 4"
       ]
      },
      {
       "output_type": "stream",
       "stream": "stdout",
       "text": [
        "\n",
        "the classifier came back with: 4, the real answer is: 4\n",
        "the classifier came back with: 4, the real answer is: 4"
       ]
      },
      {
       "output_type": "stream",
       "stream": "stdout",
       "text": [
        "\n",
        "the classifier came back with: 4, the real answer is: 4\n",
        "the classifier came back with: 4, the real answer is: 4\n",
        "the classifier came back with: 4, the real answer is: 4"
       ]
      },
      {
       "output_type": "stream",
       "stream": "stdout",
       "text": [
        "\n",
        "the classifier came back with: 4, the real answer is: 4\n",
        "the classifier came back with: 4, the real answer is: 4"
       ]
      },
      {
       "output_type": "stream",
       "stream": "stdout",
       "text": [
        "\n",
        "the classifier came back with: 4, the real answer is: 4\n",
        "the classifier came back with: 4, the real answer is: 4"
       ]
      },
      {
       "output_type": "stream",
       "stream": "stdout",
       "text": [
        "\n",
        "the classifier came back with: 4, the real answer is: 4\n",
        "the classifier came back with: 4, the real answer is: 4"
       ]
      },
      {
       "output_type": "stream",
       "stream": "stdout",
       "text": [
        "\n",
        "the classifier came back with: 4, the real answer is: 4\n",
        "the classifier came back with: 4, the real answer is: 4"
       ]
      },
      {
       "output_type": "stream",
       "stream": "stdout",
       "text": [
        "\n",
        "the classifier came back with: 4, the real answer is: 4\n",
        "the classifier came back with: 4, the real answer is: 4"
       ]
      },
      {
       "output_type": "stream",
       "stream": "stdout",
       "text": [
        "\n",
        "the classifier came back with: 4, the real answer is: 4\n",
        "the classifier came back with: 4, the real answer is: 4\n",
        "the classifier came back with: 4, the real answer is: 4"
       ]
      },
      {
       "output_type": "stream",
       "stream": "stdout",
       "text": [
        "\n",
        "the classifier came back with: 4, the real answer is: 4\n",
        "the classifier came back with: 4, the real answer is: 4"
       ]
      },
      {
       "output_type": "stream",
       "stream": "stdout",
       "text": [
        "\n",
        "the classifier came back with: 4, the real answer is: 4\n",
        "the classifier came back with: 4, the real answer is: 4"
       ]
      },
      {
       "output_type": "stream",
       "stream": "stdout",
       "text": [
        "\n",
        "the classifier came back with: 4, the real answer is: 4\n",
        "the classifier came back with: 4, the real answer is: 4\n",
        "the classifier came back with: 4, the real answer is: 4"
       ]
      },
      {
       "output_type": "stream",
       "stream": "stdout",
       "text": [
        "\n",
        "the classifier came back with: 4, the real answer is: 4\n",
        "the classifier came back with: 4, the real answer is: 4"
       ]
      },
      {
       "output_type": "stream",
       "stream": "stdout",
       "text": [
        "\n",
        "the classifier came back with: 4, the real answer is: 4\n",
        "the classifier came back with: 4, the real answer is: 4"
       ]
      },
      {
       "output_type": "stream",
       "stream": "stdout",
       "text": [
        "\n",
        "the classifier came back with: 4, the real answer is: 4\n",
        "the classifier came back with: 4, the real answer is: 4"
       ]
      },
      {
       "output_type": "stream",
       "stream": "stdout",
       "text": [
        "\n",
        "the classifier came back with: 4, the real answer is: 4\n",
        "the classifier came back with: 4, the real answer is: 4\n",
        "the classifier came back with: 4, the real answer is: 4"
       ]
      },
      {
       "output_type": "stream",
       "stream": "stdout",
       "text": [
        "\n",
        "the classifier came back with: 4, the real answer is: 4\n",
        "the classifier came back with: 4, the real answer is: 4"
       ]
      },
      {
       "output_type": "stream",
       "stream": "stdout",
       "text": [
        "\n",
        "the classifier came back with: 4, the real answer is: 4\n",
        "the classifier came back with: 4, the real answer is: 4\n",
        "the classifier came back with: 4, the real answer is: 4"
       ]
      },
      {
       "output_type": "stream",
       "stream": "stdout",
       "text": [
        "\n",
        "the classifier came back with: 4, the real answer is: 4\n",
        "the classifier came back with: 4, the real answer is: 4"
       ]
      },
      {
       "output_type": "stream",
       "stream": "stdout",
       "text": [
        "\n",
        "the classifier came back with: 4, the real answer is: 4\n",
        "the classifier came back with: 4, the real answer is: 4\n",
        "the classifier came back with: 4, the real answer is: 4"
       ]
      },
      {
       "output_type": "stream",
       "stream": "stdout",
       "text": [
        "\n",
        "the classifier came back with: 4, the real answer is: 4\n",
        "the classifier came back with: 4, the real answer is: 4"
       ]
      },
      {
       "output_type": "stream",
       "stream": "stdout",
       "text": [
        "\n",
        "the classifier came back with: 4, the real answer is: 4\n",
        "the classifier came back with: 4, the real answer is: 4\n",
        "the classifier came back with: 4, the real answer is: 4"
       ]
      },
      {
       "output_type": "stream",
       "stream": "stdout",
       "text": [
        "\n",
        "the classifier came back with: 4, the real answer is: 4\n",
        "the classifier came back with: 4, the real answer is: 4"
       ]
      },
      {
       "output_type": "stream",
       "stream": "stdout",
       "text": [
        "\n",
        "the classifier came back with: 4, the real answer is: 4\n",
        "the classifier came back with: 4, the real answer is: 4\n",
        "the classifier came back with: 4, the real answer is: 4"
       ]
      },
      {
       "output_type": "stream",
       "stream": "stdout",
       "text": [
        "\n",
        "the classifier came back with: 4, the real answer is: 4\n",
        "the classifier came back with: 4, the real answer is: 4"
       ]
      },
      {
       "output_type": "stream",
       "stream": "stdout",
       "text": [
        "\n",
        "the classifier came back with: 4, the real answer is: 4\n",
        "the classifier came back with: 4, the real answer is: 4\n",
        "the classifier came back with: 4, the real answer is: 4"
       ]
      },
      {
       "output_type": "stream",
       "stream": "stdout",
       "text": [
        "\n",
        "the classifier came back with: 4, the real answer is: 4\n",
        "the classifier came back with: 4, the real answer is: 4\n",
        "the classifier came back with: 4, the real answer is: 4"
       ]
      },
      {
       "output_type": "stream",
       "stream": "stdout",
       "text": [
        "\n",
        "the classifier came back with: 4, the real answer is: 4\n",
        "the classifier came back with: 4, the real answer is: 4"
       ]
      },
      {
       "output_type": "stream",
       "stream": "stdout",
       "text": [
        "\n",
        "the classifier came back with: 4, the real answer is: 4\n",
        "the classifier came back with: 4, the real answer is: 4\n",
        "the classifier came back with: 4, the real answer is: 4"
       ]
      },
      {
       "output_type": "stream",
       "stream": "stdout",
       "text": [
        "\n",
        "the classifier came back with: 4, the real answer is: 4\n",
        "the classifier came back with: 4, the real answer is: 4"
       ]
      },
      {
       "output_type": "stream",
       "stream": "stdout",
       "text": [
        "\n",
        "the classifier came back with: 4, the real answer is: 4\n",
        "the classifier came back with: 4, the real answer is: 4\n",
        "the classifier came back with: 4, the real answer is: 4"
       ]
      },
      {
       "output_type": "stream",
       "stream": "stdout",
       "text": [
        "\n",
        "the classifier came back with: 4, the real answer is: 4\n",
        "the classifier came back with: 4, the real answer is: 4"
       ]
      },
      {
       "output_type": "stream",
       "stream": "stdout",
       "text": [
        "\n",
        "the classifier came back with: 4, the real answer is: 4\n",
        "the classifier came back with: 4, the real answer is: 4\n",
        "the classifier came back with: 4, the real answer is: 4"
       ]
      },
      {
       "output_type": "stream",
       "stream": "stdout",
       "text": [
        "\n",
        "the classifier came back with: 4, the real answer is: 4\n",
        "the classifier came back with: 4, the real answer is: 4"
       ]
      },
      {
       "output_type": "stream",
       "stream": "stdout",
       "text": [
        "\n",
        "the classifier came back with: 4, the real answer is: 4\n",
        "the classifier came back with: 4, the real answer is: 4"
       ]
      },
      {
       "output_type": "stream",
       "stream": "stdout",
       "text": [
        "\n",
        "the classifier came back with: 4, the real answer is: 4\n",
        "the classifier came back with: 4, the real answer is: 4\n",
        "the classifier came back with: 4, the real answer is: 4"
       ]
      },
      {
       "output_type": "stream",
       "stream": "stdout",
       "text": [
        "\n",
        "the classifier came back with: 4, the real answer is: 4\n",
        "the classifier came back with: 4, the real answer is: 4\n",
        "the classifier came back with: 4, the real answer is: 4"
       ]
      },
      {
       "output_type": "stream",
       "stream": "stdout",
       "text": [
        "\n",
        "the classifier came back with: 4, the real answer is: 4\n",
        "the classifier came back with: 4, the real answer is: 4"
       ]
      },
      {
       "output_type": "stream",
       "stream": "stdout",
       "text": [
        "\n",
        "the classifier came back with: 4, the real answer is: 4\n",
        "the classifier came back with: 4, the real answer is: 4\n",
        "the classifier came back with: 4, the real answer is: 4"
       ]
      },
      {
       "output_type": "stream",
       "stream": "stdout",
       "text": [
        "\n",
        "the classifier came back with: 4, the real answer is: 4\n",
        "the classifier came back with: 4, the real answer is: 4\n",
        "the classifier came back with: 4, the real answer is: 4"
       ]
      },
      {
       "output_type": "stream",
       "stream": "stdout",
       "text": [
        "\n",
        "the classifier came back with: 4, the real answer is: 4\n",
        "the classifier came back with: 4, the real answer is: 4"
       ]
      },
      {
       "output_type": "stream",
       "stream": "stdout",
       "text": [
        "\n",
        "the classifier came back with: 4, the real answer is: 4\n",
        "the classifier came back with: 4, the real answer is: 4"
       ]
      },
      {
       "output_type": "stream",
       "stream": "stdout",
       "text": [
        "\n",
        "the classifier came back with: 4, the real answer is: 4\n",
        "the classifier came back with: 5, the real answer is: 5\n",
        "the classifier came back with: 5, the real answer is: 5"
       ]
      },
      {
       "output_type": "stream",
       "stream": "stdout",
       "text": [
        "\n",
        "the classifier came back with: 5, the real answer is: 5\n",
        "the classifier came back with: 5, the real answer is: 5\n",
        "the classifier came back with: 5, the real answer is: 5"
       ]
      },
      {
       "output_type": "stream",
       "stream": "stdout",
       "text": [
        "\n",
        "the classifier came back with: 5, the real answer is: 5\n",
        "the classifier came back with: 5, the real answer is: 5"
       ]
      },
      {
       "output_type": "stream",
       "stream": "stdout",
       "text": [
        "\n",
        "the classifier came back with: 5, the real answer is: 5\n",
        "the classifier came back with: 5, the real answer is: 5\n",
        "the classifier came back with: 5, the real answer is: 5"
       ]
      },
      {
       "output_type": "stream",
       "stream": "stdout",
       "text": [
        "\n",
        "the classifier came back with: 5, the real answer is: 5\n",
        "the classifier came back with: 5, the real answer is: 5"
       ]
      },
      {
       "output_type": "stream",
       "stream": "stdout",
       "text": [
        "\n",
        "the classifier came back with: 5, the real answer is: 5\n",
        "the classifier came back with: 5, the real answer is: 5\n",
        "the classifier came back with: 5, the real answer is: 5"
       ]
      },
      {
       "output_type": "stream",
       "stream": "stdout",
       "text": [
        "\n",
        "the classifier came back with: 5, the real answer is: 5\n",
        "the classifier came back with: 5, the real answer is: 5\n",
        "the classifier came back with: 5, the real answer is: 5"
       ]
      },
      {
       "output_type": "stream",
       "stream": "stdout",
       "text": [
        "\n",
        "the classifier came back with: 5, the real answer is: 5\n",
        "the classifier came back with: 5, the real answer is: 5"
       ]
      },
      {
       "output_type": "stream",
       "stream": "stdout",
       "text": [
        "\n",
        "the classifier came back with: 5, the real answer is: 5\n",
        "the classifier came back with: 5, the real answer is: 5"
       ]
      },
      {
       "output_type": "stream",
       "stream": "stdout",
       "text": [
        "\n",
        "the classifier came back with: 5, the real answer is: 5\n",
        "the classifier came back with: 5, the real answer is: 5\n",
        "the classifier came back with: 5, the real answer is: 5"
       ]
      },
      {
       "output_type": "stream",
       "stream": "stdout",
       "text": [
        "\n",
        "the classifier came back with: 5, the real answer is: 5\n",
        "the classifier came back with: 5, the real answer is: 5"
       ]
      },
      {
       "output_type": "stream",
       "stream": "stdout",
       "text": [
        "\n",
        "the classifier came back with: 5, the real answer is: 5\n",
        "the classifier came back with: 5, the real answer is: 5"
       ]
      },
      {
       "output_type": "stream",
       "stream": "stdout",
       "text": [
        "\n",
        "the classifier came back with: 5, the real answer is: 5\n",
        "the classifier came back with: 5, the real answer is: 5\n",
        "the classifier came back with: 5, the real answer is: 5"
       ]
      },
      {
       "output_type": "stream",
       "stream": "stdout",
       "text": [
        "\n",
        "the classifier came back with: 5, the real answer is: 5\n",
        "the classifier came back with: 5, the real answer is: 5\n",
        "the classifier came back with: 5, the real answer is: 5"
       ]
      },
      {
       "output_type": "stream",
       "stream": "stdout",
       "text": [
        "\n",
        "the classifier came back with: 5, the real answer is: 5\n",
        "the classifier came back with: 5, the real answer is: 5\n",
        "the classifier came back with: 5, the real answer is: 5"
       ]
      },
      {
       "output_type": "stream",
       "stream": "stdout",
       "text": [
        "\n",
        "the classifier came back with: 5, the real answer is: 5\n",
        "the classifier came back with: 5, the real answer is: 5\n",
        "the classifier came back with: 5, the real answer is: 5"
       ]
      },
      {
       "output_type": "stream",
       "stream": "stdout",
       "text": [
        "\n",
        "the classifier came back with: 5, the real answer is: 5\n",
        "the classifier came back with: 5, the real answer is: 5\n",
        "the classifier came back with: 5, the real answer is: 5"
       ]
      },
      {
       "output_type": "stream",
       "stream": "stdout",
       "text": [
        "\n",
        "the classifier came back with: 5, the real answer is: 5\n",
        "the classifier came back with: 3, the real answer is: 5\n",
        "the classifier came back with: 6, the real answer is: 5"
       ]
      },
      {
       "output_type": "stream",
       "stream": "stdout",
       "text": [
        "\n",
        "the classifier came back with: 5, the real answer is: 5\n",
        "the classifier came back with: 5, the real answer is: 5\n",
        "the classifier came back with: 5, the real answer is: 5"
       ]
      },
      {
       "output_type": "stream",
       "stream": "stdout",
       "text": [
        "\n",
        "the classifier came back with: 5, the real answer is: 5\n",
        "the classifier came back with: 5, the real answer is: 5\n",
        "the classifier came back with: 5, the real answer is: 5"
       ]
      },
      {
       "output_type": "stream",
       "stream": "stdout",
       "text": [
        "\n",
        "the classifier came back with: 5, the real answer is: 5\n",
        "the classifier came back with: 5, the real answer is: 5\n",
        "the classifier came back with: 5, the real answer is: 5"
       ]
      },
      {
       "output_type": "stream",
       "stream": "stdout",
       "text": [
        "\n",
        "the classifier came back with: 5, the real answer is: 5\n",
        "the classifier came back with: 5, the real answer is: 5"
       ]
      },
      {
       "output_type": "stream",
       "stream": "stdout",
       "text": [
        "\n",
        "the classifier came back with: 5, the real answer is: 5\n",
        "the classifier came back with: 5, the real answer is: 5\n",
        "the classifier came back with: 5, the real answer is: 5"
       ]
      },
      {
       "output_type": "stream",
       "stream": "stdout",
       "text": [
        "\n",
        "the classifier came back with: 5, the real answer is: 5\n",
        "the classifier came back with: 5, the real answer is: 5"
       ]
      },
      {
       "output_type": "stream",
       "stream": "stdout",
       "text": [
        "\n",
        "the classifier came back with: 5, the real answer is: 5\n",
        "the classifier came back with: 5, the real answer is: 5\n",
        "the classifier came back with: 5, the real answer is: 5"
       ]
      },
      {
       "output_type": "stream",
       "stream": "stdout",
       "text": [
        "\n",
        "the classifier came back with: 5, the real answer is: 5\n",
        "the classifier came back with: 5, the real answer is: 5\n",
        "the classifier came back with: 5, the real answer is: 5"
       ]
      },
      {
       "output_type": "stream",
       "stream": "stdout",
       "text": [
        "\n",
        "the classifier came back with: 5, the real answer is: 5\n",
        "the classifier came back with: 5, the real answer is: 5\n",
        "the classifier came back with: 5, the real answer is: 5"
       ]
      },
      {
       "output_type": "stream",
       "stream": "stdout",
       "text": [
        "\n",
        "the classifier came back with: 5, the real answer is: 5\n",
        "the classifier came back with: 5, the real answer is: 5"
       ]
      },
      {
       "output_type": "stream",
       "stream": "stdout",
       "text": [
        "\n",
        "the classifier came back with: 5, the real answer is: 5\n",
        "the classifier came back with: 5, the real answer is: 5\n",
        "the classifier came back with: 5, the real answer is: 5"
       ]
      },
      {
       "output_type": "stream",
       "stream": "stdout",
       "text": [
        "\n",
        "the classifier came back with: 5, the real answer is: 5\n",
        "the classifier came back with: 5, the real answer is: 5"
       ]
      },
      {
       "output_type": "stream",
       "stream": "stdout",
       "text": [
        "\n",
        "the classifier came back with: 5, the real answer is: 5\n",
        "the classifier came back with: 5, the real answer is: 5"
       ]
      },
      {
       "output_type": "stream",
       "stream": "stdout",
       "text": [
        "\n",
        "the classifier came back with: 5, the real answer is: 5\n",
        "the classifier came back with: 5, the real answer is: 5"
       ]
      },
      {
       "output_type": "stream",
       "stream": "stdout",
       "text": [
        "\n",
        "the classifier came back with: 5, the real answer is: 5\n",
        "the classifier came back with: 5, the real answer is: 5"
       ]
      },
      {
       "output_type": "stream",
       "stream": "stdout",
       "text": [
        "\n",
        "the classifier came back with: 5, the real answer is: 5\n",
        "the classifier came back with: 5, the real answer is: 5"
       ]
      },
      {
       "output_type": "stream",
       "stream": "stdout",
       "text": [
        "\n",
        "the classifier came back with: 5, the real answer is: 5\n",
        "the classifier came back with: 5, the real answer is: 5"
       ]
      },
      {
       "output_type": "stream",
       "stream": "stdout",
       "text": [
        "\n",
        "the classifier came back with: 5, the real answer is: 5\n",
        "the classifier came back with: 5, the real answer is: 5"
       ]
      },
      {
       "output_type": "stream",
       "stream": "stdout",
       "text": [
        "\n",
        "the classifier came back with: 5, the real answer is: 5\n",
        "the classifier came back with: 5, the real answer is: 5"
       ]
      },
      {
       "output_type": "stream",
       "stream": "stdout",
       "text": [
        "\n",
        "the classifier came back with: 5, the real answer is: 5\n",
        "the classifier came back with: 5, the real answer is: 5"
       ]
      },
      {
       "output_type": "stream",
       "stream": "stdout",
       "text": [
        "\n",
        "the classifier came back with: 5, the real answer is: 5\n",
        "the classifier came back with: 5, the real answer is: 5"
       ]
      },
      {
       "output_type": "stream",
       "stream": "stdout",
       "text": [
        "\n",
        "the classifier came back with: 5, the real answer is: 5\n",
        "the classifier came back with: 5, the real answer is: 5"
       ]
      },
      {
       "output_type": "stream",
       "stream": "stdout",
       "text": [
        "\n",
        "the classifier came back with: 5, the real answer is: 5\n",
        "the classifier came back with: 5, the real answer is: 5"
       ]
      },
      {
       "output_type": "stream",
       "stream": "stdout",
       "text": [
        "\n",
        "the classifier came back with: 5, the real answer is: 5\n",
        "the classifier came back with: 5, the real answer is: 5"
       ]
      },
      {
       "output_type": "stream",
       "stream": "stdout",
       "text": [
        "\n",
        "the classifier came back with: 5, the real answer is: 5\n",
        "the classifier came back with: 5, the real answer is: 5"
       ]
      },
      {
       "output_type": "stream",
       "stream": "stdout",
       "text": [
        "\n",
        "the classifier came back with: 5, the real answer is: 5\n",
        "the classifier came back with: 5, the real answer is: 5"
       ]
      },
      {
       "output_type": "stream",
       "stream": "stdout",
       "text": [
        "\n",
        "the classifier came back with: 5, the real answer is: 5\n",
        "the classifier came back with: 6, the real answer is: 6"
       ]
      },
      {
       "output_type": "stream",
       "stream": "stdout",
       "text": [
        "\n",
        "the classifier came back with: 6, the real answer is: 6\n",
        "the classifier came back with: 6, the real answer is: 6"
       ]
      },
      {
       "output_type": "stream",
       "stream": "stdout",
       "text": [
        "\n",
        "the classifier came back with: 6, the real answer is: 6\n",
        "the classifier came back with: 6, the real answer is: 6"
       ]
      },
      {
       "output_type": "stream",
       "stream": "stdout",
       "text": [
        "\n",
        "the classifier came back with: 6, the real answer is: 6\n",
        "the classifier came back with: 6, the real answer is: 6"
       ]
      },
      {
       "output_type": "stream",
       "stream": "stdout",
       "text": [
        "\n",
        "the classifier came back with: 6, the real answer is: 6\n",
        "the classifier came back with: 6, the real answer is: 6"
       ]
      },
      {
       "output_type": "stream",
       "stream": "stdout",
       "text": [
        "\n",
        "the classifier came back with: 6, the real answer is: 6\n",
        "the classifier came back with: 6, the real answer is: 6"
       ]
      },
      {
       "output_type": "stream",
       "stream": "stdout",
       "text": [
        "\n",
        "the classifier came back with: 6, the real answer is: 6\n",
        "the classifier came back with: 6, the real answer is: 6\n",
        "the classifier came back with: 6, the real answer is: 6"
       ]
      },
      {
       "output_type": "stream",
       "stream": "stdout",
       "text": [
        "\n",
        "the classifier came back with: 6, the real answer is: 6\n",
        "the classifier came back with: 6, the real answer is: 6"
       ]
      },
      {
       "output_type": "stream",
       "stream": "stdout",
       "text": [
        "\n",
        "the classifier came back with: 6, the real answer is: 6\n",
        "the classifier came back with: 6, the real answer is: 6"
       ]
      },
      {
       "output_type": "stream",
       "stream": "stdout",
       "text": [
        "\n",
        "the classifier came back with: 6, the real answer is: 6\n",
        "the classifier came back with: 6, the real answer is: 6"
       ]
      },
      {
       "output_type": "stream",
       "stream": "stdout",
       "text": [
        "\n",
        "the classifier came back with: 6, the real answer is: 6\n",
        "the classifier came back with: 6, the real answer is: 6"
       ]
      },
      {
       "output_type": "stream",
       "stream": "stdout",
       "text": [
        "\n",
        "the classifier came back with: 6, the real answer is: 6\n",
        "the classifier came back with: 6, the real answer is: 6"
       ]
      },
      {
       "output_type": "stream",
       "stream": "stdout",
       "text": [
        "\n",
        "the classifier came back with: 6, the real answer is: 6\n",
        "the classifier came back with: 6, the real answer is: 6"
       ]
      },
      {
       "output_type": "stream",
       "stream": "stdout",
       "text": [
        "\n",
        "the classifier came back with: 6, the real answer is: 6\n",
        "the classifier came back with: 6, the real answer is: 6"
       ]
      },
      {
       "output_type": "stream",
       "stream": "stdout",
       "text": [
        "\n",
        "the classifier came back with: 6, the real answer is: 6\n",
        "the classifier came back with: 6, the real answer is: 6"
       ]
      },
      {
       "output_type": "stream",
       "stream": "stdout",
       "text": [
        "\n",
        "the classifier came back with: 6, the real answer is: 6\n",
        "the classifier came back with: 6, the real answer is: 6\n",
        "the classifier came back with: 6, the real answer is: 6"
       ]
      },
      {
       "output_type": "stream",
       "stream": "stdout",
       "text": [
        "\n",
        "the classifier came back with: 6, the real answer is: 6\n",
        "the classifier came back with: 6, the real answer is: 6\n",
        "the classifier came back with: 6, the real answer is: 6"
       ]
      },
      {
       "output_type": "stream",
       "stream": "stdout",
       "text": [
        "\n",
        "the classifier came back with: 6, the real answer is: 6\n",
        "the classifier came back with: 6, the real answer is: 6"
       ]
      },
      {
       "output_type": "stream",
       "stream": "stdout",
       "text": [
        "\n",
        "the classifier came back with: 6, the real answer is: 6\n",
        "the classifier came back with: 6, the real answer is: 6"
       ]
      },
      {
       "output_type": "stream",
       "stream": "stdout",
       "text": [
        "\n",
        "the classifier came back with: 6, the real answer is: 6\n",
        "the classifier came back with: 6, the real answer is: 6"
       ]
      },
      {
       "output_type": "stream",
       "stream": "stdout",
       "text": [
        "\n",
        "the classifier came back with: 6, the real answer is: 6\n",
        "the classifier came back with: 6, the real answer is: 6"
       ]
      },
      {
       "output_type": "stream",
       "stream": "stdout",
       "text": [
        "\n",
        "the classifier came back with: 6, the real answer is: 6\n",
        "the classifier came back with: 6, the real answer is: 6"
       ]
      },
      {
       "output_type": "stream",
       "stream": "stdout",
       "text": [
        "\n",
        "the classifier came back with: 6, the real answer is: 6\n",
        "the classifier came back with: 6, the real answer is: 6"
       ]
      },
      {
       "output_type": "stream",
       "stream": "stdout",
       "text": [
        "\n",
        "the classifier came back with: 6, the real answer is: 6\n",
        "the classifier came back with: 6, the real answer is: 6\n",
        "the classifier came back with: 6, the real answer is: 6"
       ]
      },
      {
       "output_type": "stream",
       "stream": "stdout",
       "text": [
        "\n",
        "the classifier came back with: 6, the real answer is: 6\n",
        "the classifier came back with: 6, the real answer is: 6"
       ]
      },
      {
       "output_type": "stream",
       "stream": "stdout",
       "text": [
        "\n",
        "the classifier came back with: 6, the real answer is: 6\n",
        "the classifier came back with: 6, the real answer is: 6"
       ]
      },
      {
       "output_type": "stream",
       "stream": "stdout",
       "text": [
        "\n",
        "the classifier came back with: 6, the real answer is: 6\n",
        "the classifier came back with: 6, the real answer is: 6"
       ]
      },
      {
       "output_type": "stream",
       "stream": "stdout",
       "text": [
        "\n",
        "the classifier came back with: 6, the real answer is: 6\n",
        "the classifier came back with: 6, the real answer is: 6"
       ]
      },
      {
       "output_type": "stream",
       "stream": "stdout",
       "text": [
        "\n",
        "the classifier came back with: 6, the real answer is: 6\n",
        "the classifier came back with: 6, the real answer is: 6"
       ]
      },
      {
       "output_type": "stream",
       "stream": "stdout",
       "text": [
        "\n",
        "the classifier came back with: 6, the real answer is: 6\n",
        "the classifier came back with: 6, the real answer is: 6"
       ]
      },
      {
       "output_type": "stream",
       "stream": "stdout",
       "text": [
        "\n",
        "the classifier came back with: 6, the real answer is: 6\n",
        "the classifier came back with: 6, the real answer is: 6"
       ]
      },
      {
       "output_type": "stream",
       "stream": "stdout",
       "text": [
        "\n",
        "the classifier came back with: 6, the real answer is: 6\n",
        "the classifier came back with: 6, the real answer is: 6"
       ]
      },
      {
       "output_type": "stream",
       "stream": "stdout",
       "text": [
        "\n",
        "the classifier came back with: 6, the real answer is: 6\n",
        "the classifier came back with: 6, the real answer is: 6\n",
        "the classifier came back with: 6, the real answer is: 6"
       ]
      },
      {
       "output_type": "stream",
       "stream": "stdout",
       "text": [
        "\n",
        "the classifier came back with: 6, the real answer is: 6\n",
        "the classifier came back with: 6, the real answer is: 6"
       ]
      },
      {
       "output_type": "stream",
       "stream": "stdout",
       "text": [
        "\n",
        "the classifier came back with: 6, the real answer is: 6\n",
        "the classifier came back with: 6, the real answer is: 6"
       ]
      },
      {
       "output_type": "stream",
       "stream": "stdout",
       "text": [
        "\n",
        "the classifier came back with: 6, the real answer is: 6\n",
        "the classifier came back with: 6, the real answer is: 6"
       ]
      },
      {
       "output_type": "stream",
       "stream": "stdout",
       "text": [
        "\n",
        "the classifier came back with: 6, the real answer is: 6\n",
        "the classifier came back with: 6, the real answer is: 6"
       ]
      },
      {
       "output_type": "stream",
       "stream": "stdout",
       "text": [
        "\n",
        "the classifier came back with: 6, the real answer is: 6\n",
        "the classifier came back with: 6, the real answer is: 6"
       ]
      },
      {
       "output_type": "stream",
       "stream": "stdout",
       "text": [
        "\n",
        "the classifier came back with: 6, the real answer is: 6\n",
        "the classifier came back with: 6, the real answer is: 6"
       ]
      },
      {
       "output_type": "stream",
       "stream": "stdout",
       "text": [
        "\n",
        "the classifier came back with: 6, the real answer is: 6\n",
        "the classifier came back with: 6, the real answer is: 6"
       ]
      },
      {
       "output_type": "stream",
       "stream": "stdout",
       "text": [
        "\n",
        "the classifier came back with: 6, the real answer is: 6\n",
        "the classifier came back with: 6, the real answer is: 6"
       ]
      },
      {
       "output_type": "stream",
       "stream": "stdout",
       "text": [
        "\n",
        "the classifier came back with: 6, the real answer is: 6\n",
        "the classifier came back with: 7, the real answer is: 7"
       ]
      },
      {
       "output_type": "stream",
       "stream": "stdout",
       "text": [
        "\n",
        "the classifier came back with: 7, the real answer is: 7\n",
        "the classifier came back with: 7, the real answer is: 7"
       ]
      },
      {
       "output_type": "stream",
       "stream": "stdout",
       "text": [
        "\n",
        "the classifier came back with: 7, the real answer is: 7\n",
        "the classifier came back with: 7, the real answer is: 7"
       ]
      },
      {
       "output_type": "stream",
       "stream": "stdout",
       "text": [
        "\n",
        "the classifier came back with: 7, the real answer is: 7\n",
        "the classifier came back with: 7, the real answer is: 7"
       ]
      },
      {
       "output_type": "stream",
       "stream": "stdout",
       "text": [
        "\n",
        "the classifier came back with: 7, the real answer is: 7\n",
        "the classifier came back with: 7, the real answer is: 7"
       ]
      },
      {
       "output_type": "stream",
       "stream": "stdout",
       "text": [
        "\n",
        "the classifier came back with: 7, the real answer is: 7\n",
        "the classifier came back with: 7, the real answer is: 7"
       ]
      },
      {
       "output_type": "stream",
       "stream": "stdout",
       "text": [
        "\n",
        "the classifier came back with: 7, the real answer is: 7\n",
        "the classifier came back with: 7, the real answer is: 7"
       ]
      },
      {
       "output_type": "stream",
       "stream": "stdout",
       "text": [
        "\n",
        "the classifier came back with: 7, the real answer is: 7\n",
        "the classifier came back with: 7, the real answer is: 7"
       ]
      },
      {
       "output_type": "stream",
       "stream": "stdout",
       "text": [
        "\n",
        "the classifier came back with: 7, the real answer is: 7\n",
        "the classifier came back with: 7, the real answer is: 7"
       ]
      },
      {
       "output_type": "stream",
       "stream": "stdout",
       "text": [
        "\n",
        "the classifier came back with: 7, the real answer is: 7\n",
        "the classifier came back with: 7, the real answer is: 7"
       ]
      },
      {
       "output_type": "stream",
       "stream": "stdout",
       "text": [
        "\n",
        "the classifier came back with: 7, the real answer is: 7\n",
        "the classifier came back with: 7, the real answer is: 7"
       ]
      },
      {
       "output_type": "stream",
       "stream": "stdout",
       "text": [
        "\n",
        "the classifier came back with: 7, the real answer is: 7\n",
        "the classifier came back with: 7, the real answer is: 7"
       ]
      },
      {
       "output_type": "stream",
       "stream": "stdout",
       "text": [
        "\n",
        "the classifier came back with: 7, the real answer is: 7\n",
        "the classifier came back with: 7, the real answer is: 7"
       ]
      },
      {
       "output_type": "stream",
       "stream": "stdout",
       "text": [
        "\n",
        "the classifier came back with: 7, the real answer is: 7\n",
        "the classifier came back with: 7, the real answer is: 7"
       ]
      },
      {
       "output_type": "stream",
       "stream": "stdout",
       "text": [
        "\n",
        "the classifier came back with: 7, the real answer is: 7\n",
        "the classifier came back with: 7, the real answer is: 7"
       ]
      },
      {
       "output_type": "stream",
       "stream": "stdout",
       "text": [
        "\n",
        "the classifier came back with: 7, the real answer is: 7\n",
        "the classifier came back with: 7, the real answer is: 7"
       ]
      },
      {
       "output_type": "stream",
       "stream": "stdout",
       "text": [
        "\n",
        "the classifier came back with: 7, the real answer is: 7\n",
        "the classifier came back with: 7, the real answer is: 7"
       ]
      },
      {
       "output_type": "stream",
       "stream": "stdout",
       "text": [
        "\n",
        "the classifier came back with: 7, the real answer is: 7\n",
        "the classifier came back with: 7, the real answer is: 7"
       ]
      },
      {
       "output_type": "stream",
       "stream": "stdout",
       "text": [
        "\n",
        "the classifier came back with: 7, the real answer is: 7\n",
        "the classifier came back with: 7, the real answer is: 7"
       ]
      },
      {
       "output_type": "stream",
       "stream": "stdout",
       "text": [
        "\n",
        "the classifier came back with: 7, the real answer is: 7\n",
        "the classifier came back with: 7, the real answer is: 7\n",
        "the classifier came back with: 7, the real answer is: 7"
       ]
      },
      {
       "output_type": "stream",
       "stream": "stdout",
       "text": [
        "\n",
        "the classifier came back with: 7, the real answer is: 7\n",
        "the classifier came back with: 7, the real answer is: 7\n",
        "the classifier came back with: 7, the real answer is: 7"
       ]
      },
      {
       "output_type": "stream",
       "stream": "stdout",
       "text": [
        "\n",
        "the classifier came back with: 7, the real answer is: 7\n",
        "the classifier came back with: 7, the real answer is: 7"
       ]
      },
      {
       "output_type": "stream",
       "stream": "stdout",
       "text": [
        "\n",
        "the classifier came back with: 7, the real answer is: 7\n",
        "the classifier came back with: 7, the real answer is: 7"
       ]
      },
      {
       "output_type": "stream",
       "stream": "stdout",
       "text": [
        "\n",
        "the classifier came back with: 7, the real answer is: 7\n",
        "the classifier came back with: 7, the real answer is: 7"
       ]
      },
      {
       "output_type": "stream",
       "stream": "stdout",
       "text": [
        "\n",
        "the classifier came back with: 7, the real answer is: 7\n",
        "the classifier came back with: 7, the real answer is: 7"
       ]
      },
      {
       "output_type": "stream",
       "stream": "stdout",
       "text": [
        "\n",
        "the classifier came back with: 7, the real answer is: 7\n",
        "the classifier came back with: 7, the real answer is: 7"
       ]
      },
      {
       "output_type": "stream",
       "stream": "stdout",
       "text": [
        "\n",
        "the classifier came back with: 7, the real answer is: 7\n",
        "the classifier came back with: 7, the real answer is: 7"
       ]
      },
      {
       "output_type": "stream",
       "stream": "stdout",
       "text": [
        "\n",
        "the classifier came back with: 7, the real answer is: 7\n",
        "the classifier came back with: 7, the real answer is: 7"
       ]
      },
      {
       "output_type": "stream",
       "stream": "stdout",
       "text": [
        "\n",
        "the classifier came back with: 7, the real answer is: 7\n",
        "the classifier came back with: 7, the real answer is: 7"
       ]
      },
      {
       "output_type": "stream",
       "stream": "stdout",
       "text": [
        "\n",
        "the classifier came back with: 7, the real answer is: 7\n",
        "the classifier came back with: 7, the real answer is: 7"
       ]
      },
      {
       "output_type": "stream",
       "stream": "stdout",
       "text": [
        "\n",
        "the classifier came back with: 7, the real answer is: 7\n",
        "the classifier came back with: 7, the real answer is: 7"
       ]
      },
      {
       "output_type": "stream",
       "stream": "stdout",
       "text": [
        "\n",
        "the classifier came back with: 7, the real answer is: 7\n",
        "the classifier came back with: 7, the real answer is: 7"
       ]
      },
      {
       "output_type": "stream",
       "stream": "stdout",
       "text": [
        "\n",
        "the classifier came back with: 7, the real answer is: 7\n",
        "the classifier came back with: 7, the real answer is: 7"
       ]
      },
      {
       "output_type": "stream",
       "stream": "stdout",
       "text": [
        "\n",
        "the classifier came back with: 7, the real answer is: 7\n",
        "the classifier came back with: 7, the real answer is: 7"
       ]
      },
      {
       "output_type": "stream",
       "stream": "stdout",
       "text": [
        "\n",
        "the classifier came back with: 7, the real answer is: 7\n",
        "the classifier came back with: 7, the real answer is: 7"
       ]
      },
      {
       "output_type": "stream",
       "stream": "stdout",
       "text": [
        "\n",
        "the classifier came back with: 7, the real answer is: 7\n",
        "the classifier came back with: 7, the real answer is: 7"
       ]
      },
      {
       "output_type": "stream",
       "stream": "stdout",
       "text": [
        "\n",
        "the classifier came back with: 7, the real answer is: 7\n",
        "the classifier came back with: 7, the real answer is: 7\n",
        "the classifier came back with: 7, the real answer is: 7"
       ]
      },
      {
       "output_type": "stream",
       "stream": "stdout",
       "text": [
        "\n",
        "the classifier came back with: 7, the real answer is: 7\n",
        "the classifier came back with: 7, the real answer is: 7"
       ]
      },
      {
       "output_type": "stream",
       "stream": "stdout",
       "text": [
        "\n",
        "the classifier came back with: 7, the real answer is: 7\n",
        "the classifier came back with: 7, the real answer is: 7"
       ]
      },
      {
       "output_type": "stream",
       "stream": "stdout",
       "text": [
        "\n",
        "the classifier came back with: 7, the real answer is: 7\n",
        "the classifier came back with: 7, the real answer is: 7"
       ]
      },
      {
       "output_type": "stream",
       "stream": "stdout",
       "text": [
        "\n",
        "the classifier came back with: 7, the real answer is: 7\n",
        "the classifier came back with: 7, the real answer is: 7"
       ]
      },
      {
       "output_type": "stream",
       "stream": "stdout",
       "text": [
        "\n",
        "the classifier came back with: 7, the real answer is: 7\n",
        "the classifier came back with: 7, the real answer is: 7"
       ]
      },
      {
       "output_type": "stream",
       "stream": "stdout",
       "text": [
        "\n",
        "the classifier came back with: 7, the real answer is: 7\n",
        "the classifier came back with: 7, the real answer is: 7"
       ]
      },
      {
       "output_type": "stream",
       "stream": "stdout",
       "text": [
        "\n",
        "the classifier came back with: 7, the real answer is: 7\n",
        "the classifier came back with: 7, the real answer is: 7"
       ]
      },
      {
       "output_type": "stream",
       "stream": "stdout",
       "text": [
        "\n",
        "the classifier came back with: 7, the real answer is: 7\n",
        "the classifier came back with: 7, the real answer is: 7"
       ]
      },
      {
       "output_type": "stream",
       "stream": "stdout",
       "text": [
        "\n",
        "the classifier came back with: 7, the real answer is: 7\n",
        "the classifier came back with: 7, the real answer is: 7"
       ]
      },
      {
       "output_type": "stream",
       "stream": "stdout",
       "text": [
        "\n",
        "the classifier came back with: 7, the real answer is: 7\n",
        "the classifier came back with: 7, the real answer is: 7"
       ]
      },
      {
       "output_type": "stream",
       "stream": "stdout",
       "text": [
        "\n",
        "the classifier came back with: 8, the real answer is: 8\n",
        "the classifier came back with: 8, the real answer is: 8"
       ]
      },
      {
       "output_type": "stream",
       "stream": "stdout",
       "text": [
        "\n",
        "the classifier came back with: 8, the real answer is: 8\n",
        "the classifier came back with: 6, the real answer is: 8\n",
        "the classifier came back with: 8, the real answer is: 8"
       ]
      },
      {
       "output_type": "stream",
       "stream": "stdout",
       "text": [
        "\n",
        "the classifier came back with: 8, the real answer is: 8\n",
        "the classifier came back with: 8, the real answer is: 8"
       ]
      },
      {
       "output_type": "stream",
       "stream": "stdout",
       "text": [
        "\n",
        "the classifier came back with: 8, the real answer is: 8\n",
        "the classifier came back with: 8, the real answer is: 8"
       ]
      },
      {
       "output_type": "stream",
       "stream": "stdout",
       "text": [
        "\n",
        "the classifier came back with: 8, the real answer is: 8\n",
        "the classifier came back with: 8, the real answer is: 8"
       ]
      },
      {
       "output_type": "stream",
       "stream": "stdout",
       "text": [
        "\n",
        "the classifier came back with: 8, the real answer is: 8\n",
        "the classifier came back with: 8, the real answer is: 8"
       ]
      },
      {
       "output_type": "stream",
       "stream": "stdout",
       "text": [
        "\n",
        "the classifier came back with: 8, the real answer is: 8\n",
        "the classifier came back with: 8, the real answer is: 8"
       ]
      },
      {
       "output_type": "stream",
       "stream": "stdout",
       "text": [
        "\n",
        "the classifier came back with: 8, the real answer is: 8\n",
        "the classifier came back with: 3, the real answer is: 8"
       ]
      },
      {
       "output_type": "stream",
       "stream": "stdout",
       "text": [
        "\n",
        "the classifier came back with: 8, the real answer is: 8\n",
        "the classifier came back with: 8, the real answer is: 8"
       ]
      },
      {
       "output_type": "stream",
       "stream": "stdout",
       "text": [
        "\n",
        "the classifier came back with: 8, the real answer is: 8\n",
        "the classifier came back with: 8, the real answer is: 8"
       ]
      },
      {
       "output_type": "stream",
       "stream": "stdout",
       "text": [
        "\n",
        "the classifier came back with: 8, the real answer is: 8\n",
        "the classifier came back with: 8, the real answer is: 8"
       ]
      },
      {
       "output_type": "stream",
       "stream": "stdout",
       "text": [
        "\n",
        "the classifier came back with: 8, the real answer is: 8\n",
        "the classifier came back with: 8, the real answer is: 8"
       ]
      },
      {
       "output_type": "stream",
       "stream": "stdout",
       "text": [
        "\n",
        "the classifier came back with: 8, the real answer is: 8\n",
        "the classifier came back with: 8, the real answer is: 8"
       ]
      },
      {
       "output_type": "stream",
       "stream": "stdout",
       "text": [
        "\n",
        "the classifier came back with: 8, the real answer is: 8\n",
        "the classifier came back with: 8, the real answer is: 8"
       ]
      },
      {
       "output_type": "stream",
       "stream": "stdout",
       "text": [
        "\n",
        "the classifier came back with: 8, the real answer is: 8\n",
        "the classifier came back with: 1, the real answer is: 8"
       ]
      },
      {
       "output_type": "stream",
       "stream": "stdout",
       "text": [
        "\n",
        "the classifier came back with: 8, the real answer is: 8\n",
        "the classifier came back with: 8, the real answer is: 8"
       ]
      },
      {
       "output_type": "stream",
       "stream": "stdout",
       "text": [
        "\n",
        "the classifier came back with: 8, the real answer is: 8\n",
        "the classifier came back with: 8, the real answer is: 8"
       ]
      },
      {
       "output_type": "stream",
       "stream": "stdout",
       "text": [
        "\n",
        "the classifier came back with: 8, the real answer is: 8\n",
        "the classifier came back with: 8, the real answer is: 8"
       ]
      },
      {
       "output_type": "stream",
       "stream": "stdout",
       "text": [
        "\n",
        "the classifier came back with: 8, the real answer is: 8\n",
        "the classifier came back with: 8, the real answer is: 8"
       ]
      },
      {
       "output_type": "stream",
       "stream": "stdout",
       "text": [
        "\n",
        "the classifier came back with: 8, the real answer is: 8\n",
        "the classifier came back with: 1, the real answer is: 8"
       ]
      },
      {
       "output_type": "stream",
       "stream": "stdout",
       "text": [
        "\n",
        "the classifier came back with: 8, the real answer is: 8\n",
        "the classifier came back with: 8, the real answer is: 8"
       ]
      },
      {
       "output_type": "stream",
       "stream": "stdout",
       "text": [
        "\n",
        "the classifier came back with: 8, the real answer is: 8\n",
        "the classifier came back with: 8, the real answer is: 8"
       ]
      },
      {
       "output_type": "stream",
       "stream": "stdout",
       "text": [
        "\n",
        "the classifier came back with: 8, the real answer is: 8\n",
        "the classifier came back with: 8, the real answer is: 8"
       ]
      },
      {
       "output_type": "stream",
       "stream": "stdout",
       "text": [
        "\n",
        "the classifier came back with: 8, the real answer is: 8\n",
        "the classifier came back with: 8, the real answer is: 8"
       ]
      },
      {
       "output_type": "stream",
       "stream": "stdout",
       "text": [
        "\n",
        "the classifier came back with: 8, the real answer is: 8\n",
        "the classifier came back with: 8, the real answer is: 8"
       ]
      },
      {
       "output_type": "stream",
       "stream": "stdout",
       "text": [
        "\n",
        "the classifier came back with: 8, the real answer is: 8\n",
        "the classifier came back with: 8, the real answer is: 8"
       ]
      },
      {
       "output_type": "stream",
       "stream": "stdout",
       "text": [
        "\n",
        "the classifier came back with: 8, the real answer is: 8\n",
        "the classifier came back with: 8, the real answer is: 8"
       ]
      },
      {
       "output_type": "stream",
       "stream": "stdout",
       "text": [
        "\n",
        "the classifier came back with: 8, the real answer is: 8\n",
        "the classifier came back with: 8, the real answer is: 8"
       ]
      },
      {
       "output_type": "stream",
       "stream": "stdout",
       "text": [
        "\n",
        "the classifier came back with: 8, the real answer is: 8\n",
        "the classifier came back with: 8, the real answer is: 8\n",
        "the classifier came back with: 8, the real answer is: 8"
       ]
      },
      {
       "output_type": "stream",
       "stream": "stdout",
       "text": [
        "\n",
        "the classifier came back with: 8, the real answer is: 8\n",
        "the classifier came back with: 8, the real answer is: 8"
       ]
      },
      {
       "output_type": "stream",
       "stream": "stdout",
       "text": [
        "\n",
        "the classifier came back with: 8, the real answer is: 8\n",
        "the classifier came back with: 8, the real answer is: 8\n",
        "the classifier came back with: 8, the real answer is: 8"
       ]
      },
      {
       "output_type": "stream",
       "stream": "stdout",
       "text": [
        "\n",
        "the classifier came back with: 8, the real answer is: 8\n",
        "the classifier came back with: 8, the real answer is: 8"
       ]
      },
      {
       "output_type": "stream",
       "stream": "stdout",
       "text": [
        "\n",
        "the classifier came back with: 8, the real answer is: 8\n",
        "the classifier came back with: 8, the real answer is: 8"
       ]
      },
      {
       "output_type": "stream",
       "stream": "stdout",
       "text": [
        "\n",
        "the classifier came back with: 8, the real answer is: 8\n",
        "the classifier came back with: 8, the real answer is: 8"
       ]
      },
      {
       "output_type": "stream",
       "stream": "stdout",
       "text": [
        "\n",
        "the classifier came back with: 8, the real answer is: 8\n",
        "the classifier came back with: 8, the real answer is: 8"
       ]
      },
      {
       "output_type": "stream",
       "stream": "stdout",
       "text": [
        "\n",
        "the classifier came back with: 8, the real answer is: 8\n",
        "the classifier came back with: 8, the real answer is: 8"
       ]
      },
      {
       "output_type": "stream",
       "stream": "stdout",
       "text": [
        "\n",
        "the classifier came back with: 8, the real answer is: 8\n",
        "the classifier came back with: 8, the real answer is: 8"
       ]
      },
      {
       "output_type": "stream",
       "stream": "stdout",
       "text": [
        "\n",
        "the classifier came back with: 8, the real answer is: 8\n",
        "the classifier came back with: 8, the real answer is: 8"
       ]
      },
      {
       "output_type": "stream",
       "stream": "stdout",
       "text": [
        "\n",
        "the classifier came back with: 8, the real answer is: 8\n",
        "the classifier came back with: 8, the real answer is: 8"
       ]
      },
      {
       "output_type": "stream",
       "stream": "stdout",
       "text": [
        "\n",
        "the classifier came back with: 8, the real answer is: 8\n",
        "the classifier came back with: 8, the real answer is: 8"
       ]
      },
      {
       "output_type": "stream",
       "stream": "stdout",
       "text": [
        "\n",
        "the classifier came back with: 8, the real answer is: 8\n",
        "the classifier came back with: 8, the real answer is: 8"
       ]
      },
      {
       "output_type": "stream",
       "stream": "stdout",
       "text": [
        "\n",
        "the classifier came back with: 8, the real answer is: 8\n",
        "the classifier came back with: 8, the real answer is: 8"
       ]
      },
      {
       "output_type": "stream",
       "stream": "stdout",
       "text": [
        "\n",
        "the classifier came back with: 8, the real answer is: 8\n",
        "the classifier came back with: 8, the real answer is: 8"
       ]
      },
      {
       "output_type": "stream",
       "stream": "stdout",
       "text": [
        "\n",
        "the classifier came back with: 8, the real answer is: 8\n",
        "the classifier came back with: 8, the real answer is: 8"
       ]
      },
      {
       "output_type": "stream",
       "stream": "stdout",
       "text": [
        "\n",
        "the classifier came back with: 9, the real answer is: 9\n",
        "the classifier came back with: 9, the real answer is: 9"
       ]
      },
      {
       "output_type": "stream",
       "stream": "stdout",
       "text": [
        "\n",
        "the classifier came back with: 9, the real answer is: 9\n",
        "the classifier came back with: 9, the real answer is: 9"
       ]
      },
      {
       "output_type": "stream",
       "stream": "stdout",
       "text": [
        "\n",
        "the classifier came back with: 9, the real answer is: 9\n",
        "the classifier came back with: 9, the real answer is: 9\n",
        "the classifier came back with: 1, the real answer is: 9"
       ]
      },
      {
       "output_type": "stream",
       "stream": "stdout",
       "text": [
        "\n",
        "the classifier came back with: 9, the real answer is: 9\n",
        "the classifier came back with: 9, the real answer is: 9\n",
        "the classifier came back with: 9, the real answer is: 9"
       ]
      },
      {
       "output_type": "stream",
       "stream": "stdout",
       "text": [
        "\n",
        "the classifier came back with: 9, the real answer is: 9\n",
        "the classifier came back with: 9, the real answer is: 9\n",
        "the classifier came back with: 9, the real answer is: 9"
       ]
      },
      {
       "output_type": "stream",
       "stream": "stdout",
       "text": [
        "\n",
        "the classifier came back with: 9, the real answer is: 9\n",
        "the classifier came back with: 9, the real answer is: 9"
       ]
      },
      {
       "output_type": "stream",
       "stream": "stdout",
       "text": [
        "\n",
        "the classifier came back with: 9, the real answer is: 9\n",
        "the classifier came back with: 9, the real answer is: 9"
       ]
      },
      {
       "output_type": "stream",
       "stream": "stdout",
       "text": [
        "\n",
        "the classifier came back with: 9, the real answer is: 9\n",
        "the classifier came back with: 9, the real answer is: 9"
       ]
      },
      {
       "output_type": "stream",
       "stream": "stdout",
       "text": [
        "\n",
        "the classifier came back with: 9, the real answer is: 9\n",
        "the classifier came back with: 9, the real answer is: 9"
       ]
      },
      {
       "output_type": "stream",
       "stream": "stdout",
       "text": [
        "\n",
        "the classifier came back with: 9, the real answer is: 9\n",
        "the classifier came back with: 9, the real answer is: 9\n",
        "the classifier came back with: 9, the real answer is: 9"
       ]
      },
      {
       "output_type": "stream",
       "stream": "stdout",
       "text": [
        "\n",
        "the classifier came back with: 9, the real answer is: 9\n",
        "the classifier came back with: 9, the real answer is: 9\n",
        "the classifier came back with: 9, the real answer is: 9"
       ]
      },
      {
       "output_type": "stream",
       "stream": "stdout",
       "text": [
        "\n",
        "the classifier came back with: 9, the real answer is: 9\n",
        "the classifier came back with: 9, the real answer is: 9"
       ]
      },
      {
       "output_type": "stream",
       "stream": "stdout",
       "text": [
        "\n",
        "the classifier came back with: 9, the real answer is: 9\n",
        "the classifier came back with: 9, the real answer is: 9"
       ]
      },
      {
       "output_type": "stream",
       "stream": "stdout",
       "text": [
        "\n",
        "the classifier came back with: 9, the real answer is: 9\n",
        "the classifier came back with: 9, the real answer is: 9"
       ]
      },
      {
       "output_type": "stream",
       "stream": "stdout",
       "text": [
        "\n",
        "the classifier came back with: 9, the real answer is: 9\n",
        "the classifier came back with: 9, the real answer is: 9"
       ]
      },
      {
       "output_type": "stream",
       "stream": "stdout",
       "text": [
        "\n",
        "the classifier came back with: 9, the real answer is: 9\n",
        "the classifier came back with: 9, the real answer is: 9"
       ]
      },
      {
       "output_type": "stream",
       "stream": "stdout",
       "text": [
        "\n",
        "the classifier came back with: 9, the real answer is: 9\n",
        "the classifier came back with: 9, the real answer is: 9"
       ]
      },
      {
       "output_type": "stream",
       "stream": "stdout",
       "text": [
        "\n",
        "the classifier came back with: 9, the real answer is: 9\n",
        "the classifier came back with: 9, the real answer is: 9"
       ]
      },
      {
       "output_type": "stream",
       "stream": "stdout",
       "text": [
        "\n",
        "the classifier came back with: 9, the real answer is: 9\n",
        "the classifier came back with: 9, the real answer is: 9"
       ]
      },
      {
       "output_type": "stream",
       "stream": "stdout",
       "text": [
        "\n",
        "the classifier came back with: 9, the real answer is: 9\n",
        "the classifier came back with: 9, the real answer is: 9"
       ]
      },
      {
       "output_type": "stream",
       "stream": "stdout",
       "text": [
        "\n",
        "the classifier came back with: 9, the real answer is: 9\n",
        "the classifier came back with: 9, the real answer is: 9"
       ]
      },
      {
       "output_type": "stream",
       "stream": "stdout",
       "text": [
        "\n",
        "the classifier came back with: 9, the real answer is: 9\n",
        "the classifier came back with: 9, the real answer is: 9"
       ]
      },
      {
       "output_type": "stream",
       "stream": "stdout",
       "text": [
        "\n",
        "the classifier came back with: 9, the real answer is: 9\n",
        "the classifier came back with: 9, the real answer is: 9"
       ]
      },
      {
       "output_type": "stream",
       "stream": "stdout",
       "text": [
        "\n",
        "the classifier came back with: 9, the real answer is: 9\n",
        "the classifier came back with: 9, the real answer is: 9"
       ]
      },
      {
       "output_type": "stream",
       "stream": "stdout",
       "text": [
        "\n",
        "the classifier came back with: 9, the real answer is: 9\n",
        "the classifier came back with: 9, the real answer is: 9"
       ]
      },
      {
       "output_type": "stream",
       "stream": "stdout",
       "text": [
        "\n",
        "the classifier came back with: 9, the real answer is: 9\n",
        "the classifier came back with: 9, the real answer is: 9"
       ]
      },
      {
       "output_type": "stream",
       "stream": "stdout",
       "text": [
        "\n",
        "the classifier came back with: 7, the real answer is: 9\n",
        "the classifier came back with: 9, the real answer is: 9"
       ]
      },
      {
       "output_type": "stream",
       "stream": "stdout",
       "text": [
        "\n",
        "the classifier came back with: 9, the real answer is: 9\n",
        "the classifier came back with: 9, the real answer is: 9"
       ]
      },
      {
       "output_type": "stream",
       "stream": "stdout",
       "text": [
        "\n",
        "the classifier came back with: 9, the real answer is: 9\n",
        "the classifier came back with: 9, the real answer is: 9"
       ]
      },
      {
       "output_type": "stream",
       "stream": "stdout",
       "text": [
        "\n",
        "the classifier came back with: 9, the real answer is: 9\n",
        "the classifier came back with: 9, the real answer is: 9"
       ]
      },
      {
       "output_type": "stream",
       "stream": "stdout",
       "text": [
        "\n",
        "the classifier came back with: 9, the real answer is: 9\n",
        "the classifier came back with: 9, the real answer is: 9"
       ]
      },
      {
       "output_type": "stream",
       "stream": "stdout",
       "text": [
        "\n",
        "the classifier came back with: 9, the real answer is: 9\n",
        "the classifier came back with: 9, the real answer is: 9"
       ]
      },
      {
       "output_type": "stream",
       "stream": "stdout",
       "text": [
        "\n",
        "the classifier came back with: 9, the real answer is: 9\n",
        "the classifier came back with: 9, the real answer is: 9"
       ]
      },
      {
       "output_type": "stream",
       "stream": "stdout",
       "text": [
        "\n",
        "the classifier came back with: 9, the real answer is: 9\n",
        "the classifier came back with: 9, the real answer is: 9"
       ]
      },
      {
       "output_type": "stream",
       "stream": "stdout",
       "text": [
        "\n",
        "the classifier came back with: 9, the real answer is: 9\n",
        "the classifier came back with: 9, the real answer is: 9"
       ]
      },
      {
       "output_type": "stream",
       "stream": "stdout",
       "text": [
        "\n",
        "the classifier came back with: 9, the real answer is: 9\n",
        "the classifier came back with: 9, the real answer is: 9\n",
        "the classifier came back with: 9, the real answer is: 9"
       ]
      },
      {
       "output_type": "stream",
       "stream": "stdout",
       "text": [
        "\n",
        "the classifier came back with: 9, the real answer is: 9\n",
        "the classifier came back with: 9, the real answer is: 9"
       ]
      },
      {
       "output_type": "stream",
       "stream": "stdout",
       "text": [
        "\n",
        "the classifier came back with: 9, the real answer is: 9\n",
        "the classifier came back with: 9, the real answer is: 9"
       ]
      },
      {
       "output_type": "stream",
       "stream": "stdout",
       "text": [
        "\n",
        "the classifier came back with: 9, the real answer is: 9\n",
        "the classifier came back with: 9, the real answer is: 9"
       ]
      },
      {
       "output_type": "stream",
       "stream": "stdout",
       "text": [
        "\n",
        "the classifier came back with: 9, the real answer is: 9\n",
        "the classifier came back with: 9, the real answer is: 9"
       ]
      },
      {
       "output_type": "stream",
       "stream": "stdout",
       "text": [
        "\n",
        "the classifier came back with: 9, the real answer is: 9\n",
        "the classifier came back with: 9, the real answer is: 9"
       ]
      },
      {
       "output_type": "stream",
       "stream": "stdout",
       "text": [
        "\n",
        "the classifier came back with: 9, the real answer is: 9\n",
        "\n",
        "the total number of errors is: 11\n",
        "\n",
        "the total error rate is: 0.011628\n"
       ]
      }
     ],
     "prompt_number": 67
    },
    {
     "cell_type": "code",
     "collapsed": false,
     "input": [],
     "language": "python",
     "metadata": {},
     "outputs": []
    }
   ],
   "metadata": {}
  }
 ]
}