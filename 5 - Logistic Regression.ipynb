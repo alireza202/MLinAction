{
 "metadata": {
  "name": "",
  "signature": "sha256:73f8a6c685462514310d9487190a348ff0fc9255132150f1c62f3c6679ee2a6e"
 },
 "nbformat": 3,
 "nbformat_minor": 0,
 "worksheets": [
  {
   "cells": [
    {
     "cell_type": "heading",
     "level": 1,
     "metadata": {},
     "source": [
      "Logistic Regression"
     ]
    },
    {
     "cell_type": "markdown",
     "metadata": {},
     "source": [
      "Pros: \n",
      "* Computationally inexpensive\n",
      "* Easy to implement\n",
      "* Knowledge representation easy to interpret\n",
      "\n",
      "Cons: \n",
      "* Prone to underfitting\n",
      "* May have low accuracy \n",
      "\n",
      "Works with: \n",
      "* Numeric values\n",
      "* Nominal values"
     ]
    },
    {
     "cell_type": "code",
     "collapsed": false,
     "input": [],
     "language": "python",
     "metadata": {},
     "outputs": []
    }
   ],
   "metadata": {}
  }
 ]
}