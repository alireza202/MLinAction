{
 "metadata": {
  "name": "",
  "signature": "sha256:4723f541cc051404473b31184927c1e2cda4d114f6542937f7be627a941a8bdf"
 },
 "nbformat": 3,
 "nbformat_minor": 0,
 "worksheets": [
  {
   "cells": [
    {
     "cell_type": "heading",
     "level": 1,
     "metadata": {},
     "source": [
      "Logistic Regression"
     ]
    },
    {
     "cell_type": "markdown",
     "metadata": {},
     "source": [
      "Pros: \n",
      "* Computationally inexpensive\n",
      "* Easy to implement\n",
      "* Knowledge representation easy to interpret\n",
      "\n",
      "Cons: \n",
      "* Prone to underfitting\n",
      "* May have low accuracy \n",
      "\n",
      "Works with: \n",
      "* Numeric values\n",
      "* Nominal values"
     ]
    },
    {
     "cell_type": "code",
     "collapsed": false,
     "input": [
      "import numpy as np"
     ],
     "language": "python",
     "metadata": {},
     "outputs": [],
     "prompt_number": 3
    },
    {
     "cell_type": "code",
     "collapsed": false,
     "input": [
      "def loadDataSet():\n",
      "    dataMat = []; labelMat = []\n",
      "    fr = open('machinelearninginaction/Ch05/testSet.txt')\n",
      "    for line in fr.readlines():\n",
      "        lineArr = line.strip().split()\n",
      "        dataMat.append([1.0, float(lineArr[0]), float(lineArr[1])])\n",
      "        labelMat.append(int(lineArr[2]))\n",
      "    return dataMat,labelMat"
     ],
     "language": "python",
     "metadata": {},
     "outputs": [],
     "prompt_number": 1
    },
    {
     "cell_type": "code",
     "collapsed": false,
     "input": [
      "def sigmoid(inX):\n",
      "    return 1.0 / (1 + exp(-inX))"
     ],
     "language": "python",
     "metadata": {},
     "outputs": [],
     "prompt_number": 2
    },
    {
     "cell_type": "code",
     "collapsed": false,
     "input": [
      "def gradAscent(dataMatIn, classLabels):\n",
      "    \"\"\"\n",
      "    dataMatIn, is a 2D NumPy array, where the columns are the different \n",
      "    features and the rows are the different training examples.\n",
      "    \n",
      "    \"\"\"\n",
      "    # converts to numpy matrix\n",
      "    dataMatrix = np.mat(dataMatIn)\n",
      "    labelMat = np.mat(classLabels).transpose()\n",
      "    m, n = np.shape(dataMatrix)\n",
      "    \n",
      "    alpha = 0.01\n",
      "    maxCycles = 500\n",
      "    weights = np.ones((n,1))\n",
      "    for k in range(maxCycles):\n",
      "        h = sigmoid(dataMatrix * weights)\n",
      "        error = (labelMat - h)\n",
      "        weights = weights + alpha * dataMatrix.transpose() * error\n",
      "    return weights.getA()"
     ],
     "language": "python",
     "metadata": {},
     "outputs": [],
     "prompt_number": 57
    },
    {
     "cell_type": "code",
     "collapsed": false,
     "input": [
      "dataArr,labelMat = loadDataSet()\n",
      "weights = gradAscent(dataArr,labelMat)\n",
      "weights"
     ],
     "language": "python",
     "metadata": {},
     "outputs": [
      {
       "metadata": {},
       "output_type": "pyout",
       "prompt_number": 58,
       "text": [
        "array([[ 12.78439366],\n",
        "       [  1.11820765],\n",
        "       [ -1.74082688]])"
       ]
      }
     ],
     "prompt_number": 58
    },
    {
     "cell_type": "code",
     "collapsed": false,
     "input": [
      "def plotBestFit(wei):\n",
      "    import matplotlib.pyplot as plt\n",
      " \n",
      "    weights = wei\n",
      "    dataMat, labelMat = loadDataSet()\n",
      "    dataArr = array(dataMat)\n",
      "    n = shape(dataArr)[0]\n",
      "    \n",
      "    xcord1 = []; ycord1 = []\n",
      "    xcord2 = []; ycord2 = []\n",
      "    for i in range(n):\n",
      "        if int(labelMat[i])== 1:\n",
      "            xcord1.append(dataArr[i,1]); ycord1.append(dataArr[i,2])\n",
      "        else:\n",
      "            xcord2.append(dataArr[i,1]); ycord2.append(dataArr[i,2])\n",
      "    \n",
      "    fig = plt.figure()\n",
      "    ax = fig.add_subplot(111)\n",
      "    ax.scatter(xcord1, ycord1, s=30, c='red', marker='s')\n",
      "    ax.scatter(xcord2, ycord2, s=30, c='green')\n",
      "    x = arange(-3.0, 3.0, 0.1)\n",
      "    y = (-weights[0]-weights[1]*x)/weights[2]\n",
      "    ax.plot(x, y)\n",
      "    plt.xlabel('X1'); plt.ylabel('X2');\n",
      "    plt.show()"
     ],
     "language": "python",
     "metadata": {},
     "outputs": [],
     "prompt_number": 59
    },
    {
     "cell_type": "code",
     "collapsed": false,
     "input": [
      "plotBestFit(weights)"
     ],
     "language": "python",
     "metadata": {},
     "outputs": [
      {
       "metadata": {},
       "output_type": "display_data",
       "png": "[encoded data removed]",
       "text": [
        "<matplotlib.figure.Figure at 0x1062a6c50>"
       ]
      }
     ],
     "prompt_number": 60
    },
    {
     "cell_type": "heading",
     "level": 1,
     "metadata": {},
     "source": [
      "Stochastic gradient ascent"
     ]
    },
    {
     "cell_type": "code",
     "collapsed": false,
     "input": [
      "def stocGradAscent0(dataMatrix, classLabels):\n",
      "    m, n = shape(dataMatrix)\n",
      "    alpha = 0.01\n",
      "    weights = ones(n)\n",
      "    for i in range(m):\n",
      "        # variables h and error are now single values rather than vectors\n",
      "        h = sigmoid(sum(dataMatrix[i]*weights))\n",
      "        error = classLabels[i] - h\n",
      "        weights = weights + alpha * error * dataMatrix[i]\n",
      "    return weights"
     ],
     "language": "python",
     "metadata": {},
     "outputs": [],
     "prompt_number": 61
    },
    {
     "cell_type": "code",
     "collapsed": false,
     "input": [
      "dataArr,labelMat = loadDataSet()\n",
      "weights = stocGradAscent0(array(dataArr),labelMat)\n",
      "plotBestFit(weights)"
     ],
     "language": "python",
     "metadata": {},
     "outputs": [
      {
       "metadata": {},
       "output_type": "display_data",
       "png": "[encoded data removed]",
       "text": [
        "<matplotlib.figure.Figure at 0x106613990>"
       ]
      }
     ],
     "prompt_number": 62
    },
    {
     "cell_type": "code",
     "collapsed": false,
     "input": [
      "def stocGradAscent1(dataMatrix, classLabels, numIter=150):\n",
      "    import random\n",
      "    m, n = np.shape(dataMatrix)\n",
      "    weights = np.ones(n)\n",
      "    dataIndex = range(m)\n",
      "    for j in range(numIter):\n",
      "        for i in range(m):\n",
      "            # reducing alpha results in less oscillations\n",
      "            alpha = 4 / (1.0 + j + i) + 0.01\n",
      "            # by randomly selecting each instance to use in updating the weights\n",
      "            # we remove the periodic variations\n",
      "            randIndex = int(random.uniform(0, m))\n",
      "            h = sigmoid(sum(dataMatrix[randIndex]*weights))\n",
      "            error = classLabels[randIndex] - h\n",
      "            try:\n",
      "                weights = weights + alpha * error * dataMatrix[randIndex]\n",
      "                del(dataIndex[randIndex])\n",
      "            except:\n",
      "                pass\n",
      "    return weights"
     ],
     "language": "python",
     "metadata": {},
     "outputs": [],
     "prompt_number": 89
    },
    {
     "cell_type": "code",
     "collapsed": false,
     "input": [
      "dataArr, labelMat = loadDataSet()\n",
      "weights = stocGradAscent1(array(dataArr),labelMat, 100)\n",
      "plotBestFit(weights)"
     ],
     "language": "python",
     "metadata": {},
     "outputs": [
      {
       "metadata": {},
       "output_type": "display_data",
       "png": "[encoded data removed]",
       "text": [
        "<matplotlib.figure.Figure at 0x106613fd0>"
       ]
      }
     ],
     "prompt_number": 98
    },
    {
     "cell_type": "heading",
     "level": 1,
     "metadata": {},
     "source": [
      "Example: estimating horse fatalities from colic"
     ]
    },
    {
     "cell_type": "code",
     "collapsed": false,
     "input": [
      "def classifyVector(inX, weights):\n",
      "    prob = sigmoid(sum(inX*weights))\n",
      "    return 1.0 if prob > 0.5 else 0.0"
     ],
     "language": "python",
     "metadata": {},
     "outputs": [],
     "prompt_number": 99
    },
    {
     "cell_type": "code",
     "collapsed": false,
     "input": [
      "def colicTest():\n",
      "    frTrain = open('machinelearninginaction/Ch05/horseColicTraining.txt')\n",
      "    frTest = open('machinelearninginaction/Ch05/horseColicTest.txt')\n",
      "    trainingSet = []; trainingLabels = []\n",
      "    for line in frTrain.readlines():\n",
      "        currLine = line.strip().split('\\t')\n",
      "        lineArr =[]\n",
      "        for i in range(21):\n",
      "            lineArr.append(float(currLine[i]))\n",
      "        trainingSet.append(lineArr)\n",
      "        trainingLabels.append(float(currLine[21]))\n",
      "    trainWeights = stocGradAscent1(array(trainingSet), trainingLabels, 500)\n",
      "    errorCount = 0; numTestVec = 0.0\n",
      "    for line in frTest.readlines():\n",
      "        numTestVec += 1.0\n",
      "        currLine = line.strip().split('\\t')\n",
      "        lineArr =[]\n",
      "        for i in range(21):\n",
      "            lineArr.append(float(currLine[i]))\n",
      "        if int(classifyVector(array(lineArr), trainWeights))!= int(currLine[21]):\n",
      "            errorCount += 1\n",
      "    errorRate = (float(errorCount)/numTestVec)\n",
      "    print \"the error rate of this test is: %f\" % errorRate\n",
      "    \n",
      "    return errorRate"
     ],
     "language": "python",
     "metadata": {},
     "outputs": [],
     "prompt_number": 104
    },
    {
     "cell_type": "code",
     "collapsed": false,
     "input": [
      "def multiTest():\n",
      "    numTests = 10; errorSum=0.0\n",
      "    for k in range(numTests):\n",
      "        errorSum += colicTest()\n",
      "    print \"after %d iterations the average error rate is: %f\" % (numTests, errorSum/float(numTests))"
     ],
     "language": "python",
     "metadata": {},
     "outputs": [],
     "prompt_number": 105
    },
    {
     "cell_type": "code",
     "collapsed": false,
     "input": [
      "multiTest()"
     ],
     "language": "python",
     "metadata": {},
     "outputs": [
      {
       "output_type": "stream",
       "stream": "stdout",
       "text": [
        "the error rate of this test is: 0.402985\n",
        "the error rate of this test is: 0.268657"
       ]
      },
      {
       "output_type": "stream",
       "stream": "stdout",
       "text": [
        "\n",
        "the error rate of this test is: 0.298507"
       ]
      },
      {
       "output_type": "stream",
       "stream": "stdout",
       "text": [
        "\n",
        "the error rate of this test is: 0.268657"
       ]
      },
      {
       "output_type": "stream",
       "stream": "stdout",
       "text": [
        "\n",
        "the error rate of this test is: 0.507463"
       ]
      },
      {
       "output_type": "stream",
       "stream": "stdout",
       "text": [
        "\n",
        "the error rate of this test is: 0.268657"
       ]
      },
      {
       "output_type": "stream",
       "stream": "stdout",
       "text": [
        "\n",
        "the error rate of this test is: 0.298507"
       ]
      },
      {
       "output_type": "stream",
       "stream": "stdout",
       "text": [
        "\n",
        "the error rate of this test is: 0.388060"
       ]
      },
      {
       "output_type": "stream",
       "stream": "stdout",
       "text": [
        "\n",
        "the error rate of this test is: 0.462687"
       ]
      },
      {
       "output_type": "stream",
       "stream": "stdout",
       "text": [
        "\n",
        "the error rate of this test is: 0.328358"
       ]
      },
      {
       "output_type": "stream",
       "stream": "stdout",
       "text": [
        "\n",
        "after 10 iterations the average error rate is: 0.349254\n"
       ]
      }
     ],
     "prompt_number": 106
    },
    {
     "cell_type": "code",
     "collapsed": false,
     "input": [],
     "language": "python",
     "metadata": {},
     "outputs": []
    }
   ],
   "metadata": {}
  }
 ]
}